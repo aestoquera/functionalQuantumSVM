{
 "cells": [
  {
   "cell_type": "markdown",
   "metadata": {
    "id": "O2fJPGFJ72lH"
   },
   "source": [
    "# 1- Comparación entre algoritmos de ML clásicos vs cuanticos"
   ]
  },
  {
   "cell_type": "code",
   "execution_count": 4,
   "metadata": {
    "colab": {
     "base_uri": "https://localhost:8080/"
    },
    "executionInfo": {
     "elapsed": 23730,
     "status": "ok",
     "timestamp": 1734882084208,
     "user": {
      "displayName": "Adrián Estoquera Núñez",
      "userId": "08098194799277024573"
     },
     "user_tz": -60
    },
    "id": "Op6wH7kt8mGc",
    "outputId": "8ed7dca0-c7ae-400d-a725-e852bc0a68c0"
   },
   "outputs": [
    {
     "name": "stdout",
     "output_type": "stream",
     "text": [
      "Collecting qiskit==0.32.1\n",
      "  Using cached qiskit-0.32.1.tar.gz (13 kB)\n",
      "  Preparing metadata (setup.py) ... \u001b[?25l\u001b[?25hdone\n",
      "Collecting qiskit-terra==0.18.3 (from qiskit==0.32.1)\n",
      "  Using cached qiskit-terra-0.18.3.tar.gz (5.1 MB)\n",
      "  Installing build dependencies ... \u001b[?25l\u001b[?25hdone\n",
      "  \u001b[1;31merror\u001b[0m: \u001b[1msubprocess-exited-with-error\u001b[0m\n",
      "  \n",
      "  \u001b[31m×\u001b[0m \u001b[32mGetting requirements to build wheel\u001b[0m did not run successfully.\n",
      "  \u001b[31m│\u001b[0m exit code: \u001b[1;36m1\u001b[0m\n",
      "  \u001b[31m╰─>\u001b[0m See above for output.\n",
      "  \n",
      "  \u001b[1;35mnote\u001b[0m: This error originates from a subprocess, and is likely not a problem with pip.\n",
      "  Getting requirements to build wheel ... \u001b[?25l\u001b[?25herror\n",
      "\u001b[1;31merror\u001b[0m: \u001b[1msubprocess-exited-with-error\u001b[0m\n",
      "\n",
      "\u001b[31m×\u001b[0m \u001b[32mGetting requirements to build wheel\u001b[0m did not run successfully.\n",
      "\u001b[31m│\u001b[0m exit code: \u001b[1;36m1\u001b[0m\n",
      "\u001b[31m╰─>\u001b[0m See above for output.\n",
      "\n",
      "\u001b[1;35mnote\u001b[0m: This error originates from a subprocess, and is likely not a problem with pip.\n",
      "Requirement already satisfied: qiskit-aer in /usr/local/lib/python3.10/dist-packages (0.15.1)\n",
      "Requirement already satisfied: qiskit>=1.1.0 in /usr/local/lib/python3.10/dist-packages (from qiskit-aer) (1.3.1)\n",
      "Requirement already satisfied: numpy>=1.16.3 in /usr/local/lib/python3.10/dist-packages (from qiskit-aer) (1.26.4)\n",
      "Requirement already satisfied: scipy>=1.0 in /usr/local/lib/python3.10/dist-packages (from qiskit-aer) (1.13.1)\n",
      "Requirement already satisfied: psutil>=5 in /usr/local/lib/python3.10/dist-packages (from qiskit-aer) (5.9.5)\n",
      "Requirement already satisfied: rustworkx>=0.15.0 in /usr/local/lib/python3.10/dist-packages (from qiskit>=1.1.0->qiskit-aer) (0.15.1)\n",
      "Requirement already satisfied: sympy>=1.3 in /usr/local/lib/python3.10/dist-packages (from qiskit>=1.1.0->qiskit-aer) (1.13.1)\n",
      "Requirement already satisfied: dill>=0.3 in /usr/local/lib/python3.10/dist-packages (from qiskit>=1.1.0->qiskit-aer) (0.3.9)\n",
      "Requirement already satisfied: python-dateutil>=2.8.0 in /usr/local/lib/python3.10/dist-packages (from qiskit>=1.1.0->qiskit-aer) (2.8.2)\n",
      "Requirement already satisfied: stevedore>=3.0.0 in /usr/local/lib/python3.10/dist-packages (from qiskit>=1.1.0->qiskit-aer) (5.4.0)\n",
      "Requirement already satisfied: typing-extensions in /usr/local/lib/python3.10/dist-packages (from qiskit>=1.1.0->qiskit-aer) (4.12.2)\n",
      "Requirement already satisfied: symengine<0.14,>=0.11 in /usr/local/lib/python3.10/dist-packages (from qiskit>=1.1.0->qiskit-aer) (0.13.0)\n",
      "Requirement already satisfied: six>=1.5 in /usr/local/lib/python3.10/dist-packages (from python-dateutil>=2.8.0->qiskit>=1.1.0->qiskit-aer) (1.17.0)\n",
      "Requirement already satisfied: pbr>=2.0.0 in /usr/local/lib/python3.10/dist-packages (from stevedore>=3.0.0->qiskit>=1.1.0->qiskit-aer) (6.1.0)\n",
      "Requirement already satisfied: mpmath<1.4,>=1.1.0 in /usr/local/lib/python3.10/dist-packages (from sympy>=1.3->qiskit>=1.1.0->qiskit-aer) (1.3.0)\n",
      "Requirement already satisfied: qiskit_machine_learning in /usr/local/lib/python3.10/dist-packages (0.8.2)\n",
      "Requirement already satisfied: qiskit>=1.0 in /usr/local/lib/python3.10/dist-packages (from qiskit_machine_learning) (1.3.1)\n",
      "Requirement already satisfied: scipy>=1.4 in /usr/local/lib/python3.10/dist-packages (from qiskit_machine_learning) (1.13.1)\n",
      "Requirement already satisfied: numpy>=1.17 in /usr/local/lib/python3.10/dist-packages (from qiskit_machine_learning) (1.26.4)\n",
      "Requirement already satisfied: psutil>=5 in /usr/local/lib/python3.10/dist-packages (from qiskit_machine_learning) (5.9.5)\n",
      "Requirement already satisfied: scikit-learn>=1.2 in /usr/local/lib/python3.10/dist-packages (from qiskit_machine_learning) (1.6.0)\n",
      "Requirement already satisfied: setuptools>=40.1 in /usr/local/lib/python3.10/dist-packages (from qiskit_machine_learning) (75.1.0)\n",
      "Requirement already satisfied: dill>=0.3.4 in /usr/local/lib/python3.10/dist-packages (from qiskit_machine_learning) (0.3.9)\n",
      "Requirement already satisfied: rustworkx>=0.15.0 in /usr/local/lib/python3.10/dist-packages (from qiskit>=1.0->qiskit_machine_learning) (0.15.1)\n",
      "Requirement already satisfied: sympy>=1.3 in /usr/local/lib/python3.10/dist-packages (from qiskit>=1.0->qiskit_machine_learning) (1.13.1)\n",
      "Requirement already satisfied: python-dateutil>=2.8.0 in /usr/local/lib/python3.10/dist-packages (from qiskit>=1.0->qiskit_machine_learning) (2.8.2)\n",
      "Requirement already satisfied: stevedore>=3.0.0 in /usr/local/lib/python3.10/dist-packages (from qiskit>=1.0->qiskit_machine_learning) (5.4.0)\n",
      "Requirement already satisfied: typing-extensions in /usr/local/lib/python3.10/dist-packages (from qiskit>=1.0->qiskit_machine_learning) (4.12.2)\n",
      "Requirement already satisfied: symengine<0.14,>=0.11 in /usr/local/lib/python3.10/dist-packages (from qiskit>=1.0->qiskit_machine_learning) (0.13.0)\n",
      "Requirement already satisfied: joblib>=1.2.0 in /usr/local/lib/python3.10/dist-packages (from scikit-learn>=1.2->qiskit_machine_learning) (1.4.2)\n",
      "Requirement already satisfied: threadpoolctl>=3.1.0 in /usr/local/lib/python3.10/dist-packages (from scikit-learn>=1.2->qiskit_machine_learning) (3.5.0)\n",
      "Requirement already satisfied: six>=1.5 in /usr/local/lib/python3.10/dist-packages (from python-dateutil>=2.8.0->qiskit>=1.0->qiskit_machine_learning) (1.17.0)\n",
      "Requirement already satisfied: pbr>=2.0.0 in /usr/local/lib/python3.10/dist-packages (from stevedore>=3.0.0->qiskit>=1.0->qiskit_machine_learning) (6.1.0)\n",
      "Requirement already satisfied: mpmath<1.4,>=1.1.0 in /usr/local/lib/python3.10/dist-packages (from sympy>=1.3->qiskit>=1.0->qiskit_machine_learning) (1.3.0)\n"
     ]
    }
   ],
   "source": [
    "!pip install qiskit==0.32.1\n",
    "!pip install qiskit-aer\n",
    "!pip install qiskit_machine_learning\n"
   ]
  },
  {
   "cell_type": "markdown",
   "metadata": {
    "id": "jyXUvBEe78cp"
   },
   "source": [
    "# Dataset\n"
   ]
  },
  {
   "cell_type": "code",
   "execution_count": 5,
   "metadata": {
    "executionInfo": {
     "elapsed": 7274,
     "status": "ok",
     "timestamp": 1734882091481,
     "user": {
      "displayName": "Adrián Estoquera Núñez",
      "userId": "08098194799277024573"
     },
     "user_tz": -60
    },
    "id": "ZbXuwWeXB4uL"
   },
   "outputs": [],
   "source": [
    "from sklearn.datasets import fetch_kddcup99\n",
    "from sklearn.datasets import load_breast_cancer\n",
    "import numpy as np\n",
    "import pandas as pd\n",
    "import matplotlib.pyplot as plt\n",
    "import seaborn as sns\n",
    "from qiskit_machine_learning.kernels import FidelityQuantumKernel"
   ]
  },
  {
   "cell_type": "code",
   "execution_count": 6,
   "metadata": {
    "colab": {
     "base_uri": "https://localhost:8080/",
     "height": 290
    },
    "executionInfo": {
     "elapsed": 345,
     "status": "ok",
     "timestamp": 1734882091824,
     "user": {
      "displayName": "Adrián Estoquera Núñez",
      "userId": "08098194799277024573"
     },
     "user_tz": -60
    },
    "id": "FHaRdospDhK2",
    "outputId": "1c623922-ac02-4531-ca2b-4241d6e31bb4"
   },
   "outputs": [
    {
     "data": {
      "application/vnd.google.colaboratory.intrinsic+json": {
       "type": "dataframe",
       "variable_name": "df"
      },
      "text/html": [
       "\n",
       "  <div id=\"df-ce55360e-cb23-4079-a04a-3dda3e998994\" class=\"colab-df-container\">\n",
       "    <div>\n",
       "<style scoped>\n",
       "    .dataframe tbody tr th:only-of-type {\n",
       "        vertical-align: middle;\n",
       "    }\n",
       "\n",
       "    .dataframe tbody tr th {\n",
       "        vertical-align: top;\n",
       "    }\n",
       "\n",
       "    .dataframe thead th {\n",
       "        text-align: right;\n",
       "    }\n",
       "</style>\n",
       "<table border=\"1\" class=\"dataframe\">\n",
       "  <thead>\n",
       "    <tr style=\"text-align: right;\">\n",
       "      <th></th>\n",
       "      <th>mean radius</th>\n",
       "      <th>mean texture</th>\n",
       "      <th>mean perimeter</th>\n",
       "      <th>mean area</th>\n",
       "      <th>mean smoothness</th>\n",
       "      <th>mean compactness</th>\n",
       "      <th>mean concavity</th>\n",
       "      <th>mean concave points</th>\n",
       "      <th>mean symmetry</th>\n",
       "      <th>mean fractal dimension</th>\n",
       "      <th>...</th>\n",
       "      <th>worst texture</th>\n",
       "      <th>worst perimeter</th>\n",
       "      <th>worst area</th>\n",
       "      <th>worst smoothness</th>\n",
       "      <th>worst compactness</th>\n",
       "      <th>worst concavity</th>\n",
       "      <th>worst concave points</th>\n",
       "      <th>worst symmetry</th>\n",
       "      <th>worst fractal dimension</th>\n",
       "      <th>target</th>\n",
       "    </tr>\n",
       "  </thead>\n",
       "  <tbody>\n",
       "    <tr>\n",
       "      <th>0</th>\n",
       "      <td>17.99</td>\n",
       "      <td>10.38</td>\n",
       "      <td>122.80</td>\n",
       "      <td>1001.0</td>\n",
       "      <td>0.11840</td>\n",
       "      <td>0.27760</td>\n",
       "      <td>0.3001</td>\n",
       "      <td>0.14710</td>\n",
       "      <td>0.2419</td>\n",
       "      <td>0.07871</td>\n",
       "      <td>...</td>\n",
       "      <td>17.33</td>\n",
       "      <td>184.60</td>\n",
       "      <td>2019.0</td>\n",
       "      <td>0.1622</td>\n",
       "      <td>0.6656</td>\n",
       "      <td>0.7119</td>\n",
       "      <td>0.2654</td>\n",
       "      <td>0.4601</td>\n",
       "      <td>0.11890</td>\n",
       "      <td>0</td>\n",
       "    </tr>\n",
       "    <tr>\n",
       "      <th>1</th>\n",
       "      <td>20.57</td>\n",
       "      <td>17.77</td>\n",
       "      <td>132.90</td>\n",
       "      <td>1326.0</td>\n",
       "      <td>0.08474</td>\n",
       "      <td>0.07864</td>\n",
       "      <td>0.0869</td>\n",
       "      <td>0.07017</td>\n",
       "      <td>0.1812</td>\n",
       "      <td>0.05667</td>\n",
       "      <td>...</td>\n",
       "      <td>23.41</td>\n",
       "      <td>158.80</td>\n",
       "      <td>1956.0</td>\n",
       "      <td>0.1238</td>\n",
       "      <td>0.1866</td>\n",
       "      <td>0.2416</td>\n",
       "      <td>0.1860</td>\n",
       "      <td>0.2750</td>\n",
       "      <td>0.08902</td>\n",
       "      <td>0</td>\n",
       "    </tr>\n",
       "    <tr>\n",
       "      <th>2</th>\n",
       "      <td>19.69</td>\n",
       "      <td>21.25</td>\n",
       "      <td>130.00</td>\n",
       "      <td>1203.0</td>\n",
       "      <td>0.10960</td>\n",
       "      <td>0.15990</td>\n",
       "      <td>0.1974</td>\n",
       "      <td>0.12790</td>\n",
       "      <td>0.2069</td>\n",
       "      <td>0.05999</td>\n",
       "      <td>...</td>\n",
       "      <td>25.53</td>\n",
       "      <td>152.50</td>\n",
       "      <td>1709.0</td>\n",
       "      <td>0.1444</td>\n",
       "      <td>0.4245</td>\n",
       "      <td>0.4504</td>\n",
       "      <td>0.2430</td>\n",
       "      <td>0.3613</td>\n",
       "      <td>0.08758</td>\n",
       "      <td>0</td>\n",
       "    </tr>\n",
       "    <tr>\n",
       "      <th>3</th>\n",
       "      <td>11.42</td>\n",
       "      <td>20.38</td>\n",
       "      <td>77.58</td>\n",
       "      <td>386.1</td>\n",
       "      <td>0.14250</td>\n",
       "      <td>0.28390</td>\n",
       "      <td>0.2414</td>\n",
       "      <td>0.10520</td>\n",
       "      <td>0.2597</td>\n",
       "      <td>0.09744</td>\n",
       "      <td>...</td>\n",
       "      <td>26.50</td>\n",
       "      <td>98.87</td>\n",
       "      <td>567.7</td>\n",
       "      <td>0.2098</td>\n",
       "      <td>0.8663</td>\n",
       "      <td>0.6869</td>\n",
       "      <td>0.2575</td>\n",
       "      <td>0.6638</td>\n",
       "      <td>0.17300</td>\n",
       "      <td>0</td>\n",
       "    </tr>\n",
       "    <tr>\n",
       "      <th>4</th>\n",
       "      <td>20.29</td>\n",
       "      <td>14.34</td>\n",
       "      <td>135.10</td>\n",
       "      <td>1297.0</td>\n",
       "      <td>0.10030</td>\n",
       "      <td>0.13280</td>\n",
       "      <td>0.1980</td>\n",
       "      <td>0.10430</td>\n",
       "      <td>0.1809</td>\n",
       "      <td>0.05883</td>\n",
       "      <td>...</td>\n",
       "      <td>16.67</td>\n",
       "      <td>152.20</td>\n",
       "      <td>1575.0</td>\n",
       "      <td>0.1374</td>\n",
       "      <td>0.2050</td>\n",
       "      <td>0.4000</td>\n",
       "      <td>0.1625</td>\n",
       "      <td>0.2364</td>\n",
       "      <td>0.07678</td>\n",
       "      <td>0</td>\n",
       "    </tr>\n",
       "  </tbody>\n",
       "</table>\n",
       "<p>5 rows × 31 columns</p>\n",
       "</div>\n",
       "    <div class=\"colab-df-buttons\">\n",
       "\n",
       "  <div class=\"colab-df-container\">\n",
       "    <button class=\"colab-df-convert\" onclick=\"convertToInteractive('df-ce55360e-cb23-4079-a04a-3dda3e998994')\"\n",
       "            title=\"Convert this dataframe to an interactive table.\"\n",
       "            style=\"display:none;\">\n",
       "\n",
       "  <svg xmlns=\"http://www.w3.org/2000/svg\" height=\"24px\" viewBox=\"0 -960 960 960\">\n",
       "    <path d=\"M120-120v-720h720v720H120Zm60-500h600v-160H180v160Zm220 220h160v-160H400v160Zm0 220h160v-160H400v160ZM180-400h160v-160H180v160Zm440 0h160v-160H620v160ZM180-180h160v-160H180v160Zm440 0h160v-160H620v160Z\"/>\n",
       "  </svg>\n",
       "    </button>\n",
       "\n",
       "  <style>\n",
       "    .colab-df-container {\n",
       "      display:flex;\n",
       "      gap: 12px;\n",
       "    }\n",
       "\n",
       "    .colab-df-convert {\n",
       "      background-color: #E8F0FE;\n",
       "      border: none;\n",
       "      border-radius: 50%;\n",
       "      cursor: pointer;\n",
       "      display: none;\n",
       "      fill: #1967D2;\n",
       "      height: 32px;\n",
       "      padding: 0 0 0 0;\n",
       "      width: 32px;\n",
       "    }\n",
       "\n",
       "    .colab-df-convert:hover {\n",
       "      background-color: #E2EBFA;\n",
       "      box-shadow: 0px 1px 2px rgba(60, 64, 67, 0.3), 0px 1px 3px 1px rgba(60, 64, 67, 0.15);\n",
       "      fill: #174EA6;\n",
       "    }\n",
       "\n",
       "    .colab-df-buttons div {\n",
       "      margin-bottom: 4px;\n",
       "    }\n",
       "\n",
       "    [theme=dark] .colab-df-convert {\n",
       "      background-color: #3B4455;\n",
       "      fill: #D2E3FC;\n",
       "    }\n",
       "\n",
       "    [theme=dark] .colab-df-convert:hover {\n",
       "      background-color: #434B5C;\n",
       "      box-shadow: 0px 1px 3px 1px rgba(0, 0, 0, 0.15);\n",
       "      filter: drop-shadow(0px 1px 2px rgba(0, 0, 0, 0.3));\n",
       "      fill: #FFFFFF;\n",
       "    }\n",
       "  </style>\n",
       "\n",
       "    <script>\n",
       "      const buttonEl =\n",
       "        document.querySelector('#df-ce55360e-cb23-4079-a04a-3dda3e998994 button.colab-df-convert');\n",
       "      buttonEl.style.display =\n",
       "        google.colab.kernel.accessAllowed ? 'block' : 'none';\n",
       "\n",
       "      async function convertToInteractive(key) {\n",
       "        const element = document.querySelector('#df-ce55360e-cb23-4079-a04a-3dda3e998994');\n",
       "        const dataTable =\n",
       "          await google.colab.kernel.invokeFunction('convertToInteractive',\n",
       "                                                    [key], {});\n",
       "        if (!dataTable) return;\n",
       "\n",
       "        const docLinkHtml = 'Like what you see? Visit the ' +\n",
       "          '<a target=\"_blank\" href=https://colab.research.google.com/notebooks/data_table.ipynb>data table notebook</a>'\n",
       "          + ' to learn more about interactive tables.';\n",
       "        element.innerHTML = '';\n",
       "        dataTable['output_type'] = 'display_data';\n",
       "        await google.colab.output.renderOutput(dataTable, element);\n",
       "        const docLink = document.createElement('div');\n",
       "        docLink.innerHTML = docLinkHtml;\n",
       "        element.appendChild(docLink);\n",
       "      }\n",
       "    </script>\n",
       "  </div>\n",
       "\n",
       "\n",
       "<div id=\"df-f056a318-a5cb-4f7f-ae5a-fd080e4964e1\">\n",
       "  <button class=\"colab-df-quickchart\" onclick=\"quickchart('df-f056a318-a5cb-4f7f-ae5a-fd080e4964e1')\"\n",
       "            title=\"Suggest charts\"\n",
       "            style=\"display:none;\">\n",
       "\n",
       "<svg xmlns=\"http://www.w3.org/2000/svg\" height=\"24px\"viewBox=\"0 0 24 24\"\n",
       "     width=\"24px\">\n",
       "    <g>\n",
       "        <path d=\"M19 3H5c-1.1 0-2 .9-2 2v14c0 1.1.9 2 2 2h14c1.1 0 2-.9 2-2V5c0-1.1-.9-2-2-2zM9 17H7v-7h2v7zm4 0h-2V7h2v10zm4 0h-2v-4h2v4z\"/>\n",
       "    </g>\n",
       "</svg>\n",
       "  </button>\n",
       "\n",
       "<style>\n",
       "  .colab-df-quickchart {\n",
       "      --bg-color: #E8F0FE;\n",
       "      --fill-color: #1967D2;\n",
       "      --hover-bg-color: #E2EBFA;\n",
       "      --hover-fill-color: #174EA6;\n",
       "      --disabled-fill-color: #AAA;\n",
       "      --disabled-bg-color: #DDD;\n",
       "  }\n",
       "\n",
       "  [theme=dark] .colab-df-quickchart {\n",
       "      --bg-color: #3B4455;\n",
       "      --fill-color: #D2E3FC;\n",
       "      --hover-bg-color: #434B5C;\n",
       "      --hover-fill-color: #FFFFFF;\n",
       "      --disabled-bg-color: #3B4455;\n",
       "      --disabled-fill-color: #666;\n",
       "  }\n",
       "\n",
       "  .colab-df-quickchart {\n",
       "    background-color: var(--bg-color);\n",
       "    border: none;\n",
       "    border-radius: 50%;\n",
       "    cursor: pointer;\n",
       "    display: none;\n",
       "    fill: var(--fill-color);\n",
       "    height: 32px;\n",
       "    padding: 0;\n",
       "    width: 32px;\n",
       "  }\n",
       "\n",
       "  .colab-df-quickchart:hover {\n",
       "    background-color: var(--hover-bg-color);\n",
       "    box-shadow: 0 1px 2px rgba(60, 64, 67, 0.3), 0 1px 3px 1px rgba(60, 64, 67, 0.15);\n",
       "    fill: var(--button-hover-fill-color);\n",
       "  }\n",
       "\n",
       "  .colab-df-quickchart-complete:disabled,\n",
       "  .colab-df-quickchart-complete:disabled:hover {\n",
       "    background-color: var(--disabled-bg-color);\n",
       "    fill: var(--disabled-fill-color);\n",
       "    box-shadow: none;\n",
       "  }\n",
       "\n",
       "  .colab-df-spinner {\n",
       "    border: 2px solid var(--fill-color);\n",
       "    border-color: transparent;\n",
       "    border-bottom-color: var(--fill-color);\n",
       "    animation:\n",
       "      spin 1s steps(1) infinite;\n",
       "  }\n",
       "\n",
       "  @keyframes spin {\n",
       "    0% {\n",
       "      border-color: transparent;\n",
       "      border-bottom-color: var(--fill-color);\n",
       "      border-left-color: var(--fill-color);\n",
       "    }\n",
       "    20% {\n",
       "      border-color: transparent;\n",
       "      border-left-color: var(--fill-color);\n",
       "      border-top-color: var(--fill-color);\n",
       "    }\n",
       "    30% {\n",
       "      border-color: transparent;\n",
       "      border-left-color: var(--fill-color);\n",
       "      border-top-color: var(--fill-color);\n",
       "      border-right-color: var(--fill-color);\n",
       "    }\n",
       "    40% {\n",
       "      border-color: transparent;\n",
       "      border-right-color: var(--fill-color);\n",
       "      border-top-color: var(--fill-color);\n",
       "    }\n",
       "    60% {\n",
       "      border-color: transparent;\n",
       "      border-right-color: var(--fill-color);\n",
       "    }\n",
       "    80% {\n",
       "      border-color: transparent;\n",
       "      border-right-color: var(--fill-color);\n",
       "      border-bottom-color: var(--fill-color);\n",
       "    }\n",
       "    90% {\n",
       "      border-color: transparent;\n",
       "      border-bottom-color: var(--fill-color);\n",
       "    }\n",
       "  }\n",
       "</style>\n",
       "\n",
       "  <script>\n",
       "    async function quickchart(key) {\n",
       "      const quickchartButtonEl =\n",
       "        document.querySelector('#' + key + ' button');\n",
       "      quickchartButtonEl.disabled = true;  // To prevent multiple clicks.\n",
       "      quickchartButtonEl.classList.add('colab-df-spinner');\n",
       "      try {\n",
       "        const charts = await google.colab.kernel.invokeFunction(\n",
       "            'suggestCharts', [key], {});\n",
       "      } catch (error) {\n",
       "        console.error('Error during call to suggestCharts:', error);\n",
       "      }\n",
       "      quickchartButtonEl.classList.remove('colab-df-spinner');\n",
       "      quickchartButtonEl.classList.add('colab-df-quickchart-complete');\n",
       "    }\n",
       "    (() => {\n",
       "      let quickchartButtonEl =\n",
       "        document.querySelector('#df-f056a318-a5cb-4f7f-ae5a-fd080e4964e1 button');\n",
       "      quickchartButtonEl.style.display =\n",
       "        google.colab.kernel.accessAllowed ? 'block' : 'none';\n",
       "    })();\n",
       "  </script>\n",
       "</div>\n",
       "\n",
       "    </div>\n",
       "  </div>\n"
      ],
      "text/plain": [
       "   mean radius  mean texture  mean perimeter  mean area  mean smoothness  \\\n",
       "0        17.99         10.38          122.80     1001.0          0.11840   \n",
       "1        20.57         17.77          132.90     1326.0          0.08474   \n",
       "2        19.69         21.25          130.00     1203.0          0.10960   \n",
       "3        11.42         20.38           77.58      386.1          0.14250   \n",
       "4        20.29         14.34          135.10     1297.0          0.10030   \n",
       "\n",
       "   mean compactness  mean concavity  mean concave points  mean symmetry  \\\n",
       "0           0.27760          0.3001              0.14710         0.2419   \n",
       "1           0.07864          0.0869              0.07017         0.1812   \n",
       "2           0.15990          0.1974              0.12790         0.2069   \n",
       "3           0.28390          0.2414              0.10520         0.2597   \n",
       "4           0.13280          0.1980              0.10430         0.1809   \n",
       "\n",
       "   mean fractal dimension  ...  worst texture  worst perimeter  worst area  \\\n",
       "0                 0.07871  ...          17.33           184.60      2019.0   \n",
       "1                 0.05667  ...          23.41           158.80      1956.0   \n",
       "2                 0.05999  ...          25.53           152.50      1709.0   \n",
       "3                 0.09744  ...          26.50            98.87       567.7   \n",
       "4                 0.05883  ...          16.67           152.20      1575.0   \n",
       "\n",
       "   worst smoothness  worst compactness  worst concavity  worst concave points  \\\n",
       "0            0.1622             0.6656           0.7119                0.2654   \n",
       "1            0.1238             0.1866           0.2416                0.1860   \n",
       "2            0.1444             0.4245           0.4504                0.2430   \n",
       "3            0.2098             0.8663           0.6869                0.2575   \n",
       "4            0.1374             0.2050           0.4000                0.1625   \n",
       "\n",
       "   worst symmetry  worst fractal dimension  target  \n",
       "0          0.4601                  0.11890       0  \n",
       "1          0.2750                  0.08902       0  \n",
       "2          0.3613                  0.08758       0  \n",
       "3          0.6638                  0.17300       0  \n",
       "4          0.2364                  0.07678       0  \n",
       "\n",
       "[5 rows x 31 columns]"
      ]
     },
     "execution_count": 6,
     "metadata": {},
     "output_type": "execute_result"
    }
   ],
   "source": [
    "df = load_breast_cancer(as_frame=True)\n",
    "df = df.frame\n",
    "df.head()"
   ]
  },
  {
   "cell_type": "code",
   "execution_count": 7,
   "metadata": {
    "colab": {
     "base_uri": "https://localhost:8080/",
     "height": 290
    },
    "executionInfo": {
     "elapsed": 9,
     "status": "ok",
     "timestamp": 1734882091824,
     "user": {
      "displayName": "Adrián Estoquera Núñez",
      "userId": "08098194799277024573"
     },
     "user_tz": -60
    },
    "id": "6JhUmfai9ZBQ",
    "outputId": "7721caae-43f3-46cb-8bb6-640a8faff8a6"
   },
   "outputs": [
    {
     "data": {
      "application/vnd.google.colaboratory.intrinsic+json": {
       "type": "dataframe",
       "variable_name": "X"
      },
      "text/html": [
       "\n",
       "  <div id=\"df-ad462843-8a2c-4229-804a-90c40f01869c\" class=\"colab-df-container\">\n",
       "    <div>\n",
       "<style scoped>\n",
       "    .dataframe tbody tr th:only-of-type {\n",
       "        vertical-align: middle;\n",
       "    }\n",
       "\n",
       "    .dataframe tbody tr th {\n",
       "        vertical-align: top;\n",
       "    }\n",
       "\n",
       "    .dataframe thead th {\n",
       "        text-align: right;\n",
       "    }\n",
       "</style>\n",
       "<table border=\"1\" class=\"dataframe\">\n",
       "  <thead>\n",
       "    <tr style=\"text-align: right;\">\n",
       "      <th></th>\n",
       "      <th>mean radius</th>\n",
       "      <th>mean texture</th>\n",
       "      <th>mean perimeter</th>\n",
       "      <th>mean area</th>\n",
       "      <th>mean smoothness</th>\n",
       "      <th>mean compactness</th>\n",
       "      <th>mean concavity</th>\n",
       "      <th>mean concave points</th>\n",
       "      <th>mean symmetry</th>\n",
       "      <th>mean fractal dimension</th>\n",
       "      <th>...</th>\n",
       "      <th>worst radius</th>\n",
       "      <th>worst texture</th>\n",
       "      <th>worst perimeter</th>\n",
       "      <th>worst area</th>\n",
       "      <th>worst smoothness</th>\n",
       "      <th>worst compactness</th>\n",
       "      <th>worst concavity</th>\n",
       "      <th>worst concave points</th>\n",
       "      <th>worst symmetry</th>\n",
       "      <th>worst fractal dimension</th>\n",
       "    </tr>\n",
       "  </thead>\n",
       "  <tbody>\n",
       "    <tr>\n",
       "      <th>0</th>\n",
       "      <td>17.99</td>\n",
       "      <td>10.38</td>\n",
       "      <td>122.80</td>\n",
       "      <td>1001.0</td>\n",
       "      <td>0.11840</td>\n",
       "      <td>0.27760</td>\n",
       "      <td>0.3001</td>\n",
       "      <td>0.14710</td>\n",
       "      <td>0.2419</td>\n",
       "      <td>0.07871</td>\n",
       "      <td>...</td>\n",
       "      <td>25.38</td>\n",
       "      <td>17.33</td>\n",
       "      <td>184.60</td>\n",
       "      <td>2019.0</td>\n",
       "      <td>0.1622</td>\n",
       "      <td>0.6656</td>\n",
       "      <td>0.7119</td>\n",
       "      <td>0.2654</td>\n",
       "      <td>0.4601</td>\n",
       "      <td>0.11890</td>\n",
       "    </tr>\n",
       "    <tr>\n",
       "      <th>1</th>\n",
       "      <td>20.57</td>\n",
       "      <td>17.77</td>\n",
       "      <td>132.90</td>\n",
       "      <td>1326.0</td>\n",
       "      <td>0.08474</td>\n",
       "      <td>0.07864</td>\n",
       "      <td>0.0869</td>\n",
       "      <td>0.07017</td>\n",
       "      <td>0.1812</td>\n",
       "      <td>0.05667</td>\n",
       "      <td>...</td>\n",
       "      <td>24.99</td>\n",
       "      <td>23.41</td>\n",
       "      <td>158.80</td>\n",
       "      <td>1956.0</td>\n",
       "      <td>0.1238</td>\n",
       "      <td>0.1866</td>\n",
       "      <td>0.2416</td>\n",
       "      <td>0.1860</td>\n",
       "      <td>0.2750</td>\n",
       "      <td>0.08902</td>\n",
       "    </tr>\n",
       "    <tr>\n",
       "      <th>2</th>\n",
       "      <td>19.69</td>\n",
       "      <td>21.25</td>\n",
       "      <td>130.00</td>\n",
       "      <td>1203.0</td>\n",
       "      <td>0.10960</td>\n",
       "      <td>0.15990</td>\n",
       "      <td>0.1974</td>\n",
       "      <td>0.12790</td>\n",
       "      <td>0.2069</td>\n",
       "      <td>0.05999</td>\n",
       "      <td>...</td>\n",
       "      <td>23.57</td>\n",
       "      <td>25.53</td>\n",
       "      <td>152.50</td>\n",
       "      <td>1709.0</td>\n",
       "      <td>0.1444</td>\n",
       "      <td>0.4245</td>\n",
       "      <td>0.4504</td>\n",
       "      <td>0.2430</td>\n",
       "      <td>0.3613</td>\n",
       "      <td>0.08758</td>\n",
       "    </tr>\n",
       "    <tr>\n",
       "      <th>3</th>\n",
       "      <td>11.42</td>\n",
       "      <td>20.38</td>\n",
       "      <td>77.58</td>\n",
       "      <td>386.1</td>\n",
       "      <td>0.14250</td>\n",
       "      <td>0.28390</td>\n",
       "      <td>0.2414</td>\n",
       "      <td>0.10520</td>\n",
       "      <td>0.2597</td>\n",
       "      <td>0.09744</td>\n",
       "      <td>...</td>\n",
       "      <td>14.91</td>\n",
       "      <td>26.50</td>\n",
       "      <td>98.87</td>\n",
       "      <td>567.7</td>\n",
       "      <td>0.2098</td>\n",
       "      <td>0.8663</td>\n",
       "      <td>0.6869</td>\n",
       "      <td>0.2575</td>\n",
       "      <td>0.6638</td>\n",
       "      <td>0.17300</td>\n",
       "    </tr>\n",
       "    <tr>\n",
       "      <th>4</th>\n",
       "      <td>20.29</td>\n",
       "      <td>14.34</td>\n",
       "      <td>135.10</td>\n",
       "      <td>1297.0</td>\n",
       "      <td>0.10030</td>\n",
       "      <td>0.13280</td>\n",
       "      <td>0.1980</td>\n",
       "      <td>0.10430</td>\n",
       "      <td>0.1809</td>\n",
       "      <td>0.05883</td>\n",
       "      <td>...</td>\n",
       "      <td>22.54</td>\n",
       "      <td>16.67</td>\n",
       "      <td>152.20</td>\n",
       "      <td>1575.0</td>\n",
       "      <td>0.1374</td>\n",
       "      <td>0.2050</td>\n",
       "      <td>0.4000</td>\n",
       "      <td>0.1625</td>\n",
       "      <td>0.2364</td>\n",
       "      <td>0.07678</td>\n",
       "    </tr>\n",
       "  </tbody>\n",
       "</table>\n",
       "<p>5 rows × 30 columns</p>\n",
       "</div>\n",
       "    <div class=\"colab-df-buttons\">\n",
       "\n",
       "  <div class=\"colab-df-container\">\n",
       "    <button class=\"colab-df-convert\" onclick=\"convertToInteractive('df-ad462843-8a2c-4229-804a-90c40f01869c')\"\n",
       "            title=\"Convert this dataframe to an interactive table.\"\n",
       "            style=\"display:none;\">\n",
       "\n",
       "  <svg xmlns=\"http://www.w3.org/2000/svg\" height=\"24px\" viewBox=\"0 -960 960 960\">\n",
       "    <path d=\"M120-120v-720h720v720H120Zm60-500h600v-160H180v160Zm220 220h160v-160H400v160Zm0 220h160v-160H400v160ZM180-400h160v-160H180v160Zm440 0h160v-160H620v160ZM180-180h160v-160H180v160Zm440 0h160v-160H620v160Z\"/>\n",
       "  </svg>\n",
       "    </button>\n",
       "\n",
       "  <style>\n",
       "    .colab-df-container {\n",
       "      display:flex;\n",
       "      gap: 12px;\n",
       "    }\n",
       "\n",
       "    .colab-df-convert {\n",
       "      background-color: #E8F0FE;\n",
       "      border: none;\n",
       "      border-radius: 50%;\n",
       "      cursor: pointer;\n",
       "      display: none;\n",
       "      fill: #1967D2;\n",
       "      height: 32px;\n",
       "      padding: 0 0 0 0;\n",
       "      width: 32px;\n",
       "    }\n",
       "\n",
       "    .colab-df-convert:hover {\n",
       "      background-color: #E2EBFA;\n",
       "      box-shadow: 0px 1px 2px rgba(60, 64, 67, 0.3), 0px 1px 3px 1px rgba(60, 64, 67, 0.15);\n",
       "      fill: #174EA6;\n",
       "    }\n",
       "\n",
       "    .colab-df-buttons div {\n",
       "      margin-bottom: 4px;\n",
       "    }\n",
       "\n",
       "    [theme=dark] .colab-df-convert {\n",
       "      background-color: #3B4455;\n",
       "      fill: #D2E3FC;\n",
       "    }\n",
       "\n",
       "    [theme=dark] .colab-df-convert:hover {\n",
       "      background-color: #434B5C;\n",
       "      box-shadow: 0px 1px 3px 1px rgba(0, 0, 0, 0.15);\n",
       "      filter: drop-shadow(0px 1px 2px rgba(0, 0, 0, 0.3));\n",
       "      fill: #FFFFFF;\n",
       "    }\n",
       "  </style>\n",
       "\n",
       "    <script>\n",
       "      const buttonEl =\n",
       "        document.querySelector('#df-ad462843-8a2c-4229-804a-90c40f01869c button.colab-df-convert');\n",
       "      buttonEl.style.display =\n",
       "        google.colab.kernel.accessAllowed ? 'block' : 'none';\n",
       "\n",
       "      async function convertToInteractive(key) {\n",
       "        const element = document.querySelector('#df-ad462843-8a2c-4229-804a-90c40f01869c');\n",
       "        const dataTable =\n",
       "          await google.colab.kernel.invokeFunction('convertToInteractive',\n",
       "                                                    [key], {});\n",
       "        if (!dataTable) return;\n",
       "\n",
       "        const docLinkHtml = 'Like what you see? Visit the ' +\n",
       "          '<a target=\"_blank\" href=https://colab.research.google.com/notebooks/data_table.ipynb>data table notebook</a>'\n",
       "          + ' to learn more about interactive tables.';\n",
       "        element.innerHTML = '';\n",
       "        dataTable['output_type'] = 'display_data';\n",
       "        await google.colab.output.renderOutput(dataTable, element);\n",
       "        const docLink = document.createElement('div');\n",
       "        docLink.innerHTML = docLinkHtml;\n",
       "        element.appendChild(docLink);\n",
       "      }\n",
       "    </script>\n",
       "  </div>\n",
       "\n",
       "\n",
       "<div id=\"df-ccad27d8-95ab-4c09-afec-9e19092d72bb\">\n",
       "  <button class=\"colab-df-quickchart\" onclick=\"quickchart('df-ccad27d8-95ab-4c09-afec-9e19092d72bb')\"\n",
       "            title=\"Suggest charts\"\n",
       "            style=\"display:none;\">\n",
       "\n",
       "<svg xmlns=\"http://www.w3.org/2000/svg\" height=\"24px\"viewBox=\"0 0 24 24\"\n",
       "     width=\"24px\">\n",
       "    <g>\n",
       "        <path d=\"M19 3H5c-1.1 0-2 .9-2 2v14c0 1.1.9 2 2 2h14c1.1 0 2-.9 2-2V5c0-1.1-.9-2-2-2zM9 17H7v-7h2v7zm4 0h-2V7h2v10zm4 0h-2v-4h2v4z\"/>\n",
       "    </g>\n",
       "</svg>\n",
       "  </button>\n",
       "\n",
       "<style>\n",
       "  .colab-df-quickchart {\n",
       "      --bg-color: #E8F0FE;\n",
       "      --fill-color: #1967D2;\n",
       "      --hover-bg-color: #E2EBFA;\n",
       "      --hover-fill-color: #174EA6;\n",
       "      --disabled-fill-color: #AAA;\n",
       "      --disabled-bg-color: #DDD;\n",
       "  }\n",
       "\n",
       "  [theme=dark] .colab-df-quickchart {\n",
       "      --bg-color: #3B4455;\n",
       "      --fill-color: #D2E3FC;\n",
       "      --hover-bg-color: #434B5C;\n",
       "      --hover-fill-color: #FFFFFF;\n",
       "      --disabled-bg-color: #3B4455;\n",
       "      --disabled-fill-color: #666;\n",
       "  }\n",
       "\n",
       "  .colab-df-quickchart {\n",
       "    background-color: var(--bg-color);\n",
       "    border: none;\n",
       "    border-radius: 50%;\n",
       "    cursor: pointer;\n",
       "    display: none;\n",
       "    fill: var(--fill-color);\n",
       "    height: 32px;\n",
       "    padding: 0;\n",
       "    width: 32px;\n",
       "  }\n",
       "\n",
       "  .colab-df-quickchart:hover {\n",
       "    background-color: var(--hover-bg-color);\n",
       "    box-shadow: 0 1px 2px rgba(60, 64, 67, 0.3), 0 1px 3px 1px rgba(60, 64, 67, 0.15);\n",
       "    fill: var(--button-hover-fill-color);\n",
       "  }\n",
       "\n",
       "  .colab-df-quickchart-complete:disabled,\n",
       "  .colab-df-quickchart-complete:disabled:hover {\n",
       "    background-color: var(--disabled-bg-color);\n",
       "    fill: var(--disabled-fill-color);\n",
       "    box-shadow: none;\n",
       "  }\n",
       "\n",
       "  .colab-df-spinner {\n",
       "    border: 2px solid var(--fill-color);\n",
       "    border-color: transparent;\n",
       "    border-bottom-color: var(--fill-color);\n",
       "    animation:\n",
       "      spin 1s steps(1) infinite;\n",
       "  }\n",
       "\n",
       "  @keyframes spin {\n",
       "    0% {\n",
       "      border-color: transparent;\n",
       "      border-bottom-color: var(--fill-color);\n",
       "      border-left-color: var(--fill-color);\n",
       "    }\n",
       "    20% {\n",
       "      border-color: transparent;\n",
       "      border-left-color: var(--fill-color);\n",
       "      border-top-color: var(--fill-color);\n",
       "    }\n",
       "    30% {\n",
       "      border-color: transparent;\n",
       "      border-left-color: var(--fill-color);\n",
       "      border-top-color: var(--fill-color);\n",
       "      border-right-color: var(--fill-color);\n",
       "    }\n",
       "    40% {\n",
       "      border-color: transparent;\n",
       "      border-right-color: var(--fill-color);\n",
       "      border-top-color: var(--fill-color);\n",
       "    }\n",
       "    60% {\n",
       "      border-color: transparent;\n",
       "      border-right-color: var(--fill-color);\n",
       "    }\n",
       "    80% {\n",
       "      border-color: transparent;\n",
       "      border-right-color: var(--fill-color);\n",
       "      border-bottom-color: var(--fill-color);\n",
       "    }\n",
       "    90% {\n",
       "      border-color: transparent;\n",
       "      border-bottom-color: var(--fill-color);\n",
       "    }\n",
       "  }\n",
       "</style>\n",
       "\n",
       "  <script>\n",
       "    async function quickchart(key) {\n",
       "      const quickchartButtonEl =\n",
       "        document.querySelector('#' + key + ' button');\n",
       "      quickchartButtonEl.disabled = true;  // To prevent multiple clicks.\n",
       "      quickchartButtonEl.classList.add('colab-df-spinner');\n",
       "      try {\n",
       "        const charts = await google.colab.kernel.invokeFunction(\n",
       "            'suggestCharts', [key], {});\n",
       "      } catch (error) {\n",
       "        console.error('Error during call to suggestCharts:', error);\n",
       "      }\n",
       "      quickchartButtonEl.classList.remove('colab-df-spinner');\n",
       "      quickchartButtonEl.classList.add('colab-df-quickchart-complete');\n",
       "    }\n",
       "    (() => {\n",
       "      let quickchartButtonEl =\n",
       "        document.querySelector('#df-ccad27d8-95ab-4c09-afec-9e19092d72bb button');\n",
       "      quickchartButtonEl.style.display =\n",
       "        google.colab.kernel.accessAllowed ? 'block' : 'none';\n",
       "    })();\n",
       "  </script>\n",
       "</div>\n",
       "\n",
       "    </div>\n",
       "  </div>\n"
      ],
      "text/plain": [
       "   mean radius  mean texture  mean perimeter  mean area  mean smoothness  \\\n",
       "0        17.99         10.38          122.80     1001.0          0.11840   \n",
       "1        20.57         17.77          132.90     1326.0          0.08474   \n",
       "2        19.69         21.25          130.00     1203.0          0.10960   \n",
       "3        11.42         20.38           77.58      386.1          0.14250   \n",
       "4        20.29         14.34          135.10     1297.0          0.10030   \n",
       "\n",
       "   mean compactness  mean concavity  mean concave points  mean symmetry  \\\n",
       "0           0.27760          0.3001              0.14710         0.2419   \n",
       "1           0.07864          0.0869              0.07017         0.1812   \n",
       "2           0.15990          0.1974              0.12790         0.2069   \n",
       "3           0.28390          0.2414              0.10520         0.2597   \n",
       "4           0.13280          0.1980              0.10430         0.1809   \n",
       "\n",
       "   mean fractal dimension  ...  worst radius  worst texture  worst perimeter  \\\n",
       "0                 0.07871  ...         25.38          17.33           184.60   \n",
       "1                 0.05667  ...         24.99          23.41           158.80   \n",
       "2                 0.05999  ...         23.57          25.53           152.50   \n",
       "3                 0.09744  ...         14.91          26.50            98.87   \n",
       "4                 0.05883  ...         22.54          16.67           152.20   \n",
       "\n",
       "   worst area  worst smoothness  worst compactness  worst concavity  \\\n",
       "0      2019.0            0.1622             0.6656           0.7119   \n",
       "1      1956.0            0.1238             0.1866           0.2416   \n",
       "2      1709.0            0.1444             0.4245           0.4504   \n",
       "3       567.7            0.2098             0.8663           0.6869   \n",
       "4      1575.0            0.1374             0.2050           0.4000   \n",
       "\n",
       "   worst concave points  worst symmetry  worst fractal dimension  \n",
       "0                0.2654          0.4601                  0.11890  \n",
       "1                0.1860          0.2750                  0.08902  \n",
       "2                0.2430          0.3613                  0.08758  \n",
       "3                0.2575          0.6638                  0.17300  \n",
       "4                0.1625          0.2364                  0.07678  \n",
       "\n",
       "[5 rows x 30 columns]"
      ]
     },
     "execution_count": 7,
     "metadata": {},
     "output_type": "execute_result"
    }
   ],
   "source": [
    "X = df.drop(columns=['target'])\n",
    "y = df[\"target\"]\n",
    "X.head()"
   ]
  },
  {
   "cell_type": "code",
   "execution_count": 8,
   "metadata": {
    "colab": {
     "base_uri": "https://localhost:8080/",
     "height": 178
    },
    "executionInfo": {
     "elapsed": 8,
     "status": "ok",
     "timestamp": 1734882091824,
     "user": {
      "displayName": "Adrián Estoquera Núñez",
      "userId": "08098194799277024573"
     },
     "user_tz": -60
    },
    "id": "jOGCtJ_L-Cc8",
    "outputId": "c260fe7f-eb81-4b08-dd8c-c884cf8f2a6e"
   },
   "outputs": [
    {
     "data": {
      "text/html": [
       "<div>\n",
       "<style scoped>\n",
       "    .dataframe tbody tr th:only-of-type {\n",
       "        vertical-align: middle;\n",
       "    }\n",
       "\n",
       "    .dataframe tbody tr th {\n",
       "        vertical-align: top;\n",
       "    }\n",
       "\n",
       "    .dataframe thead th {\n",
       "        text-align: right;\n",
       "    }\n",
       "</style>\n",
       "<table border=\"1\" class=\"dataframe\">\n",
       "  <thead>\n",
       "    <tr style=\"text-align: right;\">\n",
       "      <th></th>\n",
       "      <th>count</th>\n",
       "    </tr>\n",
       "    <tr>\n",
       "      <th>target</th>\n",
       "      <th></th>\n",
       "    </tr>\n",
       "  </thead>\n",
       "  <tbody>\n",
       "    <tr>\n",
       "      <th>1</th>\n",
       "      <td>357</td>\n",
       "    </tr>\n",
       "    <tr>\n",
       "      <th>0</th>\n",
       "      <td>212</td>\n",
       "    </tr>\n",
       "  </tbody>\n",
       "</table>\n",
       "</div><br><label><b>dtype:</b> int64</label>"
      ],
      "text/plain": [
       "target\n",
       "1    357\n",
       "0    212\n",
       "Name: count, dtype: int64"
      ]
     },
     "execution_count": 8,
     "metadata": {},
     "output_type": "execute_result"
    }
   ],
   "source": [
    "y.value_counts()"
   ]
  },
  {
   "cell_type": "code",
   "execution_count": 9,
   "metadata": {
    "colab": {
     "base_uri": "https://localhost:8080/"
    },
    "executionInfo": {
     "elapsed": 8,
     "status": "ok",
     "timestamp": 1734882091824,
     "user": {
      "displayName": "Adrián Estoquera Núñez",
      "userId": "08098194799277024573"
     },
     "user_tz": -60
    },
    "id": "e1QwV3QB_0gD",
    "outputId": "c045f88f-70f4-4459-dc25-de6bd4b87758"
   },
   "outputs": [
    {
     "name": "stdout",
     "output_type": "stream",
     "text": [
      "(569, 30)\n"
     ]
    }
   ],
   "source": [
    "print(X.shape)"
   ]
  },
  {
   "cell_type": "markdown",
   "metadata": {
    "id": "_vV04ItK_4wA"
   },
   "source": [
    "Breast cancer es un dataset clásico. Consta de 569 entradas y 30 features. Al ser un dataset muy conocido, nos parece apropiado para establecer comparativas. Además, tiene un volumen de datos manejable por los algoritmos cuánticos."
   ]
  },
  {
   "cell_type": "markdown",
   "metadata": {
    "id": "JNAKnWMW_Uc_"
   },
   "source": [
    "### Inspeccion de datos y preprocesamiento\n"
   ]
  },
  {
   "cell_type": "code",
   "execution_count": 10,
   "metadata": {
    "colab": {
     "base_uri": "https://localhost:8080/"
    },
    "executionInfo": {
     "elapsed": 7,
     "status": "ok",
     "timestamp": 1734882091825,
     "user": {
      "displayName": "Adrián Estoquera Núñez",
      "userId": "08098194799277024573"
     },
     "user_tz": -60
    },
    "id": "oueOturtAXyX",
    "outputId": "f8c71378-65ca-4d7a-a8b7-8788aca16213"
   },
   "outputs": [
    {
     "name": "stdout",
     "output_type": "stream",
     "text": [
      "mean radius                0\n",
      "mean texture               0\n",
      "mean perimeter             0\n",
      "mean area                  0\n",
      "mean smoothness            0\n",
      "mean compactness           0\n",
      "mean concavity             0\n",
      "mean concave points        0\n",
      "mean symmetry              0\n",
      "mean fractal dimension     0\n",
      "radius error               0\n",
      "texture error              0\n",
      "perimeter error            0\n",
      "area error                 0\n",
      "smoothness error           0\n",
      "compactness error          0\n",
      "concavity error            0\n",
      "concave points error       0\n",
      "symmetry error             0\n",
      "fractal dimension error    0\n",
      "worst radius               0\n",
      "worst texture              0\n",
      "worst perimeter            0\n",
      "worst area                 0\n",
      "worst smoothness           0\n",
      "worst compactness          0\n",
      "worst concavity            0\n",
      "worst concave points       0\n",
      "worst symmetry             0\n",
      "worst fractal dimension    0\n",
      "dtype: int64\n"
     ]
    }
   ],
   "source": [
    "print(X.isnull().sum())"
   ]
  },
  {
   "cell_type": "code",
   "execution_count": 11,
   "metadata": {
    "colab": {
     "base_uri": "https://localhost:8080/"
    },
    "executionInfo": {
     "elapsed": 199,
     "status": "ok",
     "timestamp": 1734882092019,
     "user": {
      "displayName": "Adrián Estoquera Núñez",
      "userId": "08098194799277024573"
     },
     "user_tz": -60
    },
    "id": "4FbFS-IeAJI0",
    "outputId": "f9d252fe-d1de-43d6-e5ee-4372abf40138"
   },
   "outputs": [
    {
     "name": "stdout",
     "output_type": "stream",
     "text": [
      "mean radius                float64\n",
      "mean texture               float64\n",
      "mean perimeter             float64\n",
      "mean area                  float64\n",
      "mean smoothness            float64\n",
      "mean compactness           float64\n",
      "mean concavity             float64\n",
      "mean concave points        float64\n",
      "mean symmetry              float64\n",
      "mean fractal dimension     float64\n",
      "radius error               float64\n",
      "texture error              float64\n",
      "perimeter error            float64\n",
      "area error                 float64\n",
      "smoothness error           float64\n",
      "compactness error          float64\n",
      "concavity error            float64\n",
      "concave points error       float64\n",
      "symmetry error             float64\n",
      "fractal dimension error    float64\n",
      "worst radius               float64\n",
      "worst texture              float64\n",
      "worst perimeter            float64\n",
      "worst area                 float64\n",
      "worst smoothness           float64\n",
      "worst compactness          float64\n",
      "worst concavity            float64\n",
      "worst concave points       float64\n",
      "worst symmetry             float64\n",
      "worst fractal dimension    float64\n",
      "dtype: object\n"
     ]
    }
   ],
   "source": [
    "print(X.dtypes)"
   ]
  },
  {
   "cell_type": "markdown",
   "metadata": {
    "id": "Ypuq46waCvu_"
   },
   "source": [
    "#### Correlación"
   ]
  },
  {
   "cell_type": "code",
   "execution_count": 12,
   "metadata": {
    "colab": {
     "base_uri": "https://localhost:8080/",
     "height": 1000
    },
    "executionInfo": {
     "elapsed": 2001,
     "status": "ok",
     "timestamp": 1734882094018,
     "user": {
      "displayName": "Adrián Estoquera Núñez",
      "userId": "08098194799277024573"
     },
     "user_tz": -60
    },
    "id": "YFlQMXl0Cz7l",
    "outputId": "06e46774-42c4-4386-b09c-dda7f7938f06"
   },
   "outputs": [
    {
     "data": {
      "image/png": "[encoded data removed]",
      "text/plain": [
       "<Figure size 1500x1200 with 2 Axes>"
      ]
     },
     "metadata": {},
     "output_type": "display_data"
    }
   ],
   "source": [
    "df_numeric = X.select_dtypes(include=[np.number])\n",
    "# # Keep columns with more than 1 unique value\n",
    "df_numeric = df_numeric[[col for col in df_numeric if df_numeric[col].nunique() > 1]]\n",
    "\n",
    "# Calculate correlation\n",
    "corr = df_numeric.corr()\n",
    "\n",
    "# Create the heatmap with custom colors\n",
    "plt.figure(figsize=(15,12))\n",
    "sns.heatmap(corr, cmap=sns.diverging_palette(10, 150, as_cmap=True), center=0, fmt=\".2f\")\n",
    "\n",
    "# Add title\n",
    "plt.title(\"Correlation Heatmap\", fontsize=16)\n",
    "\n",
    "# Display the plot\n",
    "plt.show()"
   ]
  },
  {
   "cell_type": "markdown",
   "metadata": {
    "id": "j16nB8WOEATF"
   },
   "source": [
    "Eliminamos features con demasiada correlacion"
   ]
  },
  {
   "cell_type": "code",
   "execution_count": 13,
   "metadata": {
    "colab": {
     "base_uri": "https://localhost:8080/"
    },
    "executionInfo": {
     "elapsed": 5,
     "status": "ok",
     "timestamp": 1734882094019,
     "user": {
      "displayName": "Adrián Estoquera Núñez",
      "userId": "08098194799277024573"
     },
     "user_tz": -60
    },
    "id": "YVs2SfpdEFLo",
    "outputId": "73bc27fa-ff4c-449b-bf9b-e0f385a69b72"
   },
   "outputs": [
    {
     "name": "stdout",
     "output_type": "stream",
     "text": [
      "Correlation between mean radius and mean perimeter = 0.9978552814938109\n",
      "Dropping variable mean perimeter due to high correlation\n",
      "Correlation between worst radius and worst perimeter = 0.993707916102949\n",
      "Dropping variable worst perimeter due to high correlation\n",
      "Correlation between mean radius and mean area = 0.9873571700566127\n",
      "Dropping variable mean area due to high correlation\n",
      "Correlation between worst radius and worst area = 0.9840145644590742\n",
      "Dropping variable worst area due to high correlation\n",
      "Correlation between radius error and perimeter error = 0.9727936770160764\n",
      "Dropping variable perimeter error due to high correlation\n",
      "Correlation between mean radius and worst radius = 0.9695389726112055\n",
      "Dropping variable worst radius due to high correlation\n",
      "Correlation between radius error and area error = 0.951830112110991\n",
      "Dropping variable area error due to high correlation\n",
      "Correlation between mean concavity and mean concave points = 0.9213910263788588\n",
      "Dropping variable mean concave points due to high correlation\n",
      "Correlation between mean texture and worst texture = 0.912044588840421\n",
      "Dropping variable worst texture due to high correlation\n",
      "Correlation between worst compactness and worst concavity = 0.8922608987764685\n",
      "Dropping variable worst concavity due to high correlation\n",
      "Correlation between mean compactness and mean concavity = 0.8831206701772507\n",
      "Dropping variable mean concavity due to high correlation\n",
      "No more pairs with correlation greater than 0.87\n"
     ]
    }
   ],
   "source": [
    "def remove_high_correlation(X, threshold=0.87):\n",
    "    # Calcular la matriz de correlaciones\n",
    "    df_numeric = X.select_dtypes(include=[np.number])\n",
    "    corr_matrix = df_numeric.corr()\n",
    "\n",
    "    # Establecer un valor para el máximo de la correlación (sin contar la diagonal)\n",
    "    upper = corr_matrix.where(np.triu(np.ones(corr_matrix.shape), k=1).astype(bool)).stack()\n",
    "\n",
    "    # Filtrar las correlaciones superiores al umbral especificado\n",
    "    high_corr = upper[upper > threshold]\n",
    "\n",
    "    # Si no hay correlaciones altas, terminamos\n",
    "    if high_corr.empty:\n",
    "        print(\"No more pairs with correlation greater than\", threshold)\n",
    "        return X\n",
    "\n",
    "    # Mostrar la correlación más alta\n",
    "    max_corr_pair = high_corr.idxmax()\n",
    "    max_corr_value = high_corr.max()\n",
    "    print(f\"Correlation between {max_corr_pair[0]} and {max_corr_pair[1]} = {max_corr_value}\")\n",
    "\n",
    "    # Eliminar la variable con mayor correlación\n",
    "    var_to_drop = max_corr_pair[1]\n",
    "    print(f\"Dropping variable {var_to_drop} due to high correlation\")\n",
    "    X = X.drop(columns=[var_to_drop])\n",
    "\n",
    "    # Llamada recursiva\n",
    "    return remove_high_correlation(X, threshold)\n",
    "\n",
    "X = remove_high_correlation(X)"
   ]
  },
  {
   "cell_type": "markdown",
   "metadata": {
    "id": "aLBUYNZJPmXX"
   },
   "source": [
    "# Train-test split"
   ]
  },
  {
   "cell_type": "code",
   "execution_count": 14,
   "metadata": {
    "executionInfo": {
     "elapsed": 3,
     "status": "ok",
     "timestamp": 1734882094019,
     "user": {
      "displayName": "Adrián Estoquera Núñez",
      "userId": "08098194799277024573"
     },
     "user_tz": -60
    },
    "id": "3DjxIU5r7Rl3"
   },
   "outputs": [],
   "source": [
    "def create_small_subset(X, y, fraction=0.1, random_state=None):\n",
    "    \"\"\"\n",
    "    Crea subconjuntos pequeños de X e y, seleccionando aleatoriamente un porcentaje de las filas.\n",
    "\n",
    "    Args:\n",
    "        X (pd.DataFrame): DataFrame de características.\n",
    "        y (pd.DataFrame o pd.Series): DataFrame o Serie de etiquetas.\n",
    "        fraction (float): Proporción del tamaño del subconjunto (default: 0.1).\n",
    "        random_state (int, optional): Semilla para la reproducibilidad (default: None).\n",
    "\n",
    "    Returns:\n",
    "        pd.DataFrame, pd.DataFrame o pd.Series: Subconjuntos X_small e y_small.\n",
    "    \"\"\"\n",
    "    # Seleccionar una muestra aleatoria de los índices\n",
    "    sample_indices = X.sample(frac=fraction, random_state=random_state).index\n",
    "    # Crear subconjuntos\n",
    "    X_small = X.loc[sample_indices]\n",
    "    y_small = y.loc[sample_indices]\n",
    "    return X_small, y_small"
   ]
  },
  {
   "cell_type": "code",
   "execution_count": 15,
   "metadata": {
    "executionInfo": {
     "elapsed": 168,
     "status": "ok",
     "timestamp": 1734882094184,
     "user": {
      "displayName": "Adrián Estoquera Núñez",
      "userId": "08098194799277024573"
     },
     "user_tz": -60
    },
    "id": "vNPrQ9pD7SEg"
   },
   "outputs": [],
   "source": [
    "# X_small, y_small = create_small_subset(X, y, fraction=0.75, random_state=42)\n",
    "\n",
    "# print(X_small.shape)\n",
    "# print(y_small.shape)"
   ]
  },
  {
   "cell_type": "markdown",
   "metadata": {
    "id": "XNwf9LTNGJdW"
   },
   "source": [
    "# SVM"
   ]
  },
  {
   "cell_type": "code",
   "execution_count": 16,
   "metadata": {
    "executionInfo": {
     "elapsed": 643,
     "status": "ok",
     "timestamp": 1734882094826,
     "user": {
      "displayName": "Adrián Estoquera Núñez",
      "userId": "08098194799277024573"
     },
     "user_tz": -60
    },
    "id": "J-PDIYrTGp5C"
   },
   "outputs": [],
   "source": [
    "# Pasamos las etiquetas a numeros:\n",
    "from sklearn.preprocessing import LabelEncoder\n",
    "from sklearn.model_selection import train_test_split\n",
    "from sklearn.decomposition import PCA\n",
    "\n",
    "# Inicializa el LabelEncoder\n",
    "label_encoder = LabelEncoder()\n",
    "y = label_encoder.fit_transform(y)\n",
    "\n",
    "\n",
    "X_train, X_test, y_train, y_test = train_test_split(X, y, test_size=0.3, random_state=42)\n",
    "\n",
    "# Reduccion de dimensionalidad necesaria para poder ejecutar el dataset\n",
    "pca = PCA(n_components=6)\n",
    "X_train = pca.fit_transform(X_train)\n",
    "X_test = pca.transform(X_test)\n",
    "X_train = np.array(X_train)\n",
    "X_test = np.array(X_test)\n"
   ]
  },
  {
   "cell_type": "markdown",
   "metadata": {
    "id": "wpnLrxZTGTgK"
   },
   "source": [
    "## SVM clasico\n"
   ]
  },
  {
   "cell_type": "code",
   "execution_count": 14,
   "metadata": {
    "colab": {
     "base_uri": "https://localhost:8080/"
    },
    "executionInfo": {
     "elapsed": 313,
     "status": "ok",
     "timestamp": 1734782773522,
     "user": {
      "displayName": "Adrián Estoquera Núñez",
      "userId": "08098194799277024573"
     },
     "user_tz": -60
    },
    "id": "Q_SR6hUyW2vP",
    "outputId": "8d7bb65c-2b0e-42d0-cbde-5cc13dd961a0"
   },
   "outputs": [
    {
     "name": "stdout",
     "output_type": "stream",
     "text": [
      "Accuracy del modelo SVM: 91.23%\n",
      "Precisión del modelo SVM: 92.09%\n",
      "Recall del modelo SVM: 89.09%\n",
      "F1 Score del modelo SVM: 90.26%\n",
      "Matriz de Confusión:\n",
      "[[ 51  12]\n",
      " [  3 105]]\n"
     ]
    }
   ],
   "source": [
    "from sklearn.svm import SVC\n",
    "from sklearn.metrics import accuracy_score, precision_score, recall_score, f1_score, confusion_matrix\n",
    "# Definir el modelo SVM clásico\n",
    "svm = SVC(kernel='rbf')\n",
    "\n",
    "# Entrenar el modelo\n",
    "svm.fit(X_train, y_train)\n",
    "\n",
    "# Realizar predicciones\n",
    "y_pred = svm.predict(X_test)\n",
    "\n",
    "# Evaluar el modelo\n",
    "accuracy = accuracy_score(y_test, y_pred)\n",
    "# Exactitud: porcentaje de predicciones correctas sobre el total de predicciones\n",
    "print(f\"Accuracy del modelo SVM: {accuracy * 100:.2f}%\")\n",
    "\n",
    "precision = precision_score(y_test, y_pred, average=\"macro\")\n",
    "# Precisión: porcentaje de instancias positivas correctamente identificadas (verdaderos positivos / (verdaderos positivos + falsos positivos))\n",
    "print(f\"Precisión del modelo SVM: {precision * 100:.2f}%\")\n",
    "\n",
    "recall = recall_score(y_test, y_pred,  average=\"macro\")\n",
    "# Recall: porcentaje de instancias positivas correctamente identificadas entre todas las instancias positivas reales (verdaderos positivos / (verdaderos positivos + falsos negativos))\n",
    "print(f\"Recall del modelo SVM: {recall * 100:.2f}%\")\n",
    "\n",
    "f1 = f1_score(y_test, y_pred,  average=\"macro\")\n",
    "# F1 Score: la media armónica entre precisión y recall, usada cuando hay un desbalance entre clases\n",
    "print(f\"F1 Score del modelo SVM: {f1 * 100:.2f}%\")\n",
    "\n",
    "conf_matrix = confusion_matrix(y_test, y_pred)\n",
    "# Matriz de confusión: muestra los verdaderos positivos, falsos positivos, verdaderos negativos y falsos negativos\n",
    "print(f\"Matriz de Confusión:\\n{conf_matrix}\")"
   ]
  },
  {
   "cell_type": "markdown",
   "metadata": {
    "id": "ZuqK6NCfDEZx"
   },
   "source": [
    "## SVM clásico basado en entrenamiento de kernel cuantico"
   ]
  },
  {
   "cell_type": "code",
   "execution_count": 15,
   "metadata": {
    "colab": {
     "base_uri": "https://localhost:8080/"
    },
    "executionInfo": {
     "elapsed": 27888,
     "status": "ok",
     "timestamp": 1734782801409,
     "user": {
      "displayName": "Adrián Estoquera Núñez",
      "userId": "08098194799277024573"
     },
     "user_tz": -60
    },
    "id": "DyLGl1mTOJ-a",
    "outputId": "37a9d6f4-52bc-4ffa-8afb-2ebe6808b5c0"
   },
   "outputs": [
    {
     "name": "stdout",
     "output_type": "stream",
     "text": [
      "Collecting pennylane\n",
      "  Downloading PennyLane-0.39.0-py3-none-any.whl.metadata (9.2 kB)\n",
      "Requirement already satisfied: numpy<2.1 in /usr/local/lib/python3.10/dist-packages (from pennylane) (1.26.4)\n",
      "Requirement already satisfied: scipy in /usr/local/lib/python3.10/dist-packages (from pennylane) (1.13.1)\n",
      "Requirement already satisfied: networkx in /usr/local/lib/python3.10/dist-packages (from pennylane) (3.4.2)\n",
      "Requirement already satisfied: rustworkx>=0.14.0 in /usr/local/lib/python3.10/dist-packages (from pennylane) (0.15.1)\n",
      "Requirement already satisfied: autograd in /usr/local/lib/python3.10/dist-packages (from pennylane) (1.7.0)\n",
      "Requirement already satisfied: toml in /usr/local/lib/python3.10/dist-packages (from pennylane) (0.10.2)\n",
      "Collecting appdirs (from pennylane)\n",
      "  Downloading appdirs-1.4.4-py2.py3-none-any.whl.metadata (9.0 kB)\n",
      "Collecting autoray>=0.6.11 (from pennylane)\n",
      "  Downloading autoray-0.7.0-py3-none-any.whl.metadata (5.8 kB)\n",
      "Requirement already satisfied: cachetools in /usr/local/lib/python3.10/dist-packages (from pennylane) (5.5.0)\n",
      "Collecting pennylane-lightning>=0.39 (from pennylane)\n",
      "  Downloading PennyLane_Lightning-0.39.0-cp310-cp310-manylinux_2_28_x86_64.whl.metadata (26 kB)\n",
      "Requirement already satisfied: requests in /usr/local/lib/python3.10/dist-packages (from pennylane) (2.32.3)\n",
      "Requirement already satisfied: typing-extensions in /usr/local/lib/python3.10/dist-packages (from pennylane) (4.12.2)\n",
      "Requirement already satisfied: packaging in /usr/local/lib/python3.10/dist-packages (from pennylane) (24.2)\n",
      "Requirement already satisfied: charset-normalizer<4,>=2 in /usr/local/lib/python3.10/dist-packages (from requests->pennylane) (3.4.0)\n",
      "Requirement already satisfied: idna<4,>=2.5 in /usr/local/lib/python3.10/dist-packages (from requests->pennylane) (3.10)\n",
      "Requirement already satisfied: urllib3<3,>=1.21.1 in /usr/local/lib/python3.10/dist-packages (from requests->pennylane) (2.2.3)\n",
      "Requirement already satisfied: certifi>=2017.4.17 in /usr/local/lib/python3.10/dist-packages (from requests->pennylane) (2024.12.14)\n",
      "Downloading PennyLane-0.39.0-py3-none-any.whl (1.9 MB)\n",
      "\u001b[2K   \u001b[90m━━━━━━━━━━━━━━━━━━━━━━━━━━━━━━━━━━━━━━━━\u001b[0m \u001b[32m1.9/1.9 MB\u001b[0m \u001b[31m18.5 MB/s\u001b[0m eta \u001b[36m0:00:00\u001b[0m\n",
      "\u001b[?25hDownloading autoray-0.7.0-py3-none-any.whl (930 kB)\n",
      "\u001b[2K   \u001b[90m━━━━━━━━━━━━━━━━━━━━━━━━━━━━━━━━━━━━━━━━\u001b[0m \u001b[32m930.0/930.0 kB\u001b[0m \u001b[31m28.9 MB/s\u001b[0m eta \u001b[36m0:00:00\u001b[0m\n",
      "\u001b[?25hDownloading PennyLane_Lightning-0.39.0-cp310-cp310-manylinux_2_28_x86_64.whl (1.7 MB)\n",
      "\u001b[2K   \u001b[90m━━━━━━━━━━━━━━━━━━━━━━━━━━━━━━━━━━━━━━━━\u001b[0m \u001b[32m1.7/1.7 MB\u001b[0m \u001b[31m22.2 MB/s\u001b[0m eta \u001b[36m0:00:00\u001b[0m\n",
      "\u001b[?25hDownloading appdirs-1.4.4-py2.py3-none-any.whl (9.6 kB)\n",
      "Installing collected packages: appdirs, autoray, pennylane-lightning, pennylane\n",
      "Successfully installed appdirs-1.4.4 autoray-0.7.0 pennylane-0.39.0 pennylane-lightning-0.39.0\n"
     ]
    }
   ],
   "source": [
    "import numpy as np\n",
    "import torch\n",
    "from torch.nn.functional import relu\n",
    "\n",
    "from sklearn.svm import SVC\n",
    "from sklearn.metrics import accuracy_score\n",
    "\n",
    "!pip install pennylane\n",
    "\n",
    "import pennylane as qml\n",
    "from pennylane.templates import AngleEmbedding, StronglyEntanglingLayers\n",
    "\n",
    "import matplotlib.pyplot as plt\n",
    "\n",
    "np.random.seed(42)\n"
   ]
  },
  {
   "cell_type": "code",
   "execution_count": 16,
   "metadata": {
    "executionInfo": {
     "elapsed": 6,
     "status": "ok",
     "timestamp": 1734782801410,
     "user": {
      "displayName": "Adrián Estoquera Núñez",
      "userId": "08098194799277024573"
     },
     "user_tz": -60
    },
    "id": "tDnALyASPK8B"
   },
   "outputs": [],
   "source": [
    "# scaling the labels to -1, 1 is important for the SVM and the\n",
    "# definition of a hinge loss\n",
    "y_train_scaled = [-1 if label == 0 else 1 for label in y_train]\n",
    "y_test_scaled = [-1 if label == 0 else 1 for label in y_test]\n",
    "y_train_scaled = np.array(y_train_scaled)\n",
    "y_test_scaled = np.array(y_test_scaled)"
   ]
  },
  {
   "cell_type": "code",
   "execution_count": 17,
   "metadata": {
    "colab": {
     "base_uri": "https://localhost:8080/"
    },
    "executionInfo": {
     "elapsed": 5,
     "status": "ok",
     "timestamp": 1734782801410,
     "user": {
      "displayName": "Adrián Estoquera Núñez",
      "userId": "08098194799277024573"
     },
     "user_tz": -60
    },
    "id": "GFQrPL3sQBmd",
    "outputId": "dc2a9973-77bc-4b60-df8e-96da26cdd695"
   },
   "outputs": [
    {
     "data": {
      "text/plain": [
       "6"
      ]
     },
     "execution_count": 17,
     "metadata": {},
     "output_type": "execute_result"
    }
   ],
   "source": [
    "# We use the angle-embedding template which needs as many qubits as there are features:\n",
    "n_qubits = (X_train.shape[1])\n",
    "n_qubits"
   ]
  },
  {
   "cell_type": "code",
   "execution_count": 18,
   "metadata": {
    "colab": {
     "base_uri": "https://localhost:8080/"
    },
    "executionInfo": {
     "elapsed": 3,
     "status": "ok",
     "timestamp": 1734782801410,
     "user": {
      "displayName": "Adrián Estoquera Núñez",
      "userId": "08098194799277024573"
     },
     "user_tz": -60
    },
    "id": "DbLrEDWrQRKi",
    "outputId": "9c815d90-d23f-4b33-d5f7-7685877250b1"
   },
   "outputs": [
    {
     "data": {
      "text/plain": [
       "1.0"
      ]
     },
     "execution_count": 18,
     "metadata": {},
     "output_type": "execute_result"
    }
   ],
   "source": [
    "dev_kernel = qml.device(\"lightning.qubit\", wires=n_qubits)\n",
    "\n",
    "projector = np.zeros((2 ** n_qubits, 2 ** n_qubits))\n",
    "projector[0, 0] = 1\n",
    "\n",
    "@qml.qnode(dev_kernel)\n",
    "def kernel(x1, x2):\n",
    "    \"\"\"The quantum kernel.\"\"\"\n",
    "    AngleEmbedding(x1, wires=range(n_qubits))\n",
    "    qml.adjoint(AngleEmbedding)(x2, wires=range(n_qubits))\n",
    "    return qml.expval(qml.Hermitian(projector, wires=range(n_qubits)))\n",
    "# Sanity check: Evaluar mediante el kernel un punto consigo mismo deberia devovler 1\n",
    "kernel(X_train[0], X_train[0])\n"
   ]
  },
  {
   "cell_type": "code",
   "execution_count": 19,
   "metadata": {
    "executionInfo": {
     "elapsed": 2,
     "status": "ok",
     "timestamp": 1734782801410,
     "user": {
      "displayName": "Adrián Estoquera Núñez",
      "userId": "08098194799277024573"
     },
     "user_tz": -60
    },
    "id": "IL2adVDHQxW6"
   },
   "outputs": [],
   "source": [
    "def kernel_matrix(A, B):\n",
    "    \"\"\"Compute the matrix whose entries are the kernel\n",
    "       evaluated on pairwise data from sets A and B.\"\"\"\n",
    "    return np.array([[kernel(a, b) for b in B] for a in A])"
   ]
  },
  {
   "cell_type": "code",
   "execution_count": 20,
   "metadata": {
    "executionInfo": {
     "elapsed": 386656,
     "status": "ok",
     "timestamp": 1734783188064,
     "user": {
      "displayName": "Adrián Estoquera Núñez",
      "userId": "08098194799277024573"
     },
     "user_tz": -60
    },
    "id": "5c6Eeju4Q6Ke"
   },
   "outputs": [],
   "source": [
    "# Train...\n",
    "# Aprox 5-10 mins para 4 features\n",
    "svm = SVC(kernel=kernel_matrix).fit(X_train, y_train)\n"
   ]
  },
  {
   "cell_type": "code",
   "execution_count": 21,
   "metadata": {
    "colab": {
     "base_uri": "https://localhost:8080/"
    },
    "executionInfo": {
     "elapsed": 316943,
     "status": "ok",
     "timestamp": 1734783505006,
     "user": {
      "displayName": "Adrián Estoquera Núñez",
      "userId": "08098194799277024573"
     },
     "user_tz": -60
    },
    "id": "0E3LkslXREYe",
    "outputId": "1f747f21-e13f-4b76-b661-7ef743ae02e0"
   },
   "outputs": [
    {
     "name": "stdout",
     "output_type": "stream",
     "text": [
      "accuracy: 0.6374269005847953\n",
      "Number of executions: 68058\n"
     ]
    }
   ],
   "source": [
    "# Obtenemos registros del entrenamiento:\n",
    "# Acc:\n",
    "with dev_kernel.tracker:\n",
    "    predictions = svm.predict(X_test) # Approx 6 mins para 4 features\n",
    "    accuracy_score(predictions, y_test)\n",
    "    print(\"accuracy:\", accuracy_score(predictions, y_test))\n",
    "# Número de veces que el quantum device ha sido evaluado:\n",
    "nExec = dev_kernel.tracker.totals['executions']\n",
    "print(f\"Number of executions: {nExec}\")"
   ]
  },
  {
   "cell_type": "markdown",
   "metadata": {
    "id": "RshZ9KGhSxn5"
   },
   "source": [
    "## Entrenamiento variacional\n",
    "Vamos a probar con el entrenamiento variacional porque es más eficiente al evitar calcular la matriz de kernels completa, optimizando solo los parámetros del modelo en lugar de evaluar todos los pares de datos, lo que reduce el costo computacional."
   ]
  },
  {
   "cell_type": "code",
   "execution_count": 22,
   "metadata": {
    "executionInfo": {
     "elapsed": 7,
     "status": "ok",
     "timestamp": 1734783505006,
     "user": {
      "displayName": "Adrián Estoquera Núñez",
      "userId": "08098194799277024573"
     },
     "user_tz": -60
    },
    "id": "2JATnf8mSxIx"
   },
   "outputs": [],
   "source": [
    "dev_var = qml.device(\"lightning.qubit\", wires=n_qubits) # Creamos un dispositivo cuántico simulado en un ordenador clásico con n_qubits qubits.\n",
    "\n",
    "# Vamos a hacer el codigo necesario para hacer el embedding cuantico, la funcion de perdida, etc\n",
    "@qml.qnode(dev_var, diff_method=\"parameter-shift\")\n",
    "def quantum_model(x, params):\n",
    "    \"\"\"Circuito cuántico variacional:\n",
    "    Toma un conjunto de parámetros params (optimizables) y una entrada x (Vector de características).\n",
    "    \"\"\"\n",
    "    # Mapeamos la entrada a un estado cuántico.\n",
    "    # Aplicamos un embedding de las características de entrada usando AngleEmbedding\n",
    "    AngleEmbedding(x, wires=range(n_qubits))\n",
    "\n",
    "    # Generamos el entrelazamiento.\n",
    "    # Los parametros pueden optimizarse\n",
    "    StronglyEntanglingLayers(params, wires=range(n_qubits))\n",
    "    # La salida del circuito es la expectativa del operador PauliZPauliZ en el primer qubit,\n",
    "    # lo que representa la predicción del modelo cuántico\n",
    "    return qml.expval(qml.PauliZ(0))\n",
    "\n",
    "def quantum_model_plus_bias(x, params, bias):\n",
    "    \"\"\"Sesgo. Similar a una regresión lineal\"\"\"\n",
    "    return quantum_model(x, params) + bias\n",
    "\n",
    "def hinge_loss(predictions, targets):\n",
    "    \"\"\" calcula la pérdida de bisagra, que es usada en SVMs.\n",
    "    Mide la diferencia entre la predicción y la etiqueta objetivo,\n",
    "    y penaliza las predicciones incorrectas.\n",
    "\n",
    "    La función relu asegura que la pérdida sea no negativa.\"\"\"\n",
    "    all_ones = torch.ones_like(targets)\n",
    "    hinge_loss = all_ones - predictions * targets\n",
    "    # trick: since the max(0,x) function is not differentiable,\n",
    "    # use the mathematically equivalent relu instead\n",
    "    hinge_loss = relu(hinge_loss)\n",
    "    return hinge_loss"
   ]
  },
  {
   "cell_type": "markdown",
   "metadata": {
    "id": "Sxh5e7yfU6lB"
   },
   "source": [
    "Proceso de entrenamiento y predicción de un modelo cuántico variacional."
   ]
  },
  {
   "cell_type": "code",
   "execution_count": 23,
   "metadata": {
    "executionInfo": {
     "elapsed": 7,
     "status": "ok",
     "timestamp": 1734783505006,
     "user": {
      "displayName": "Adrián Estoquera Núñez",
      "userId": "08098194799277024573"
     },
     "user_tz": -60
    },
    "id": "Vhwk7PoHTF0F"
   },
   "outputs": [],
   "source": [
    "def quantum_model_train(n_layers, steps, batch_size, verbose = True):\n",
    "    \"\"\"\n",
    "    Entrena un modelo cuántico variacional utilizando el optimizador Adam y la pérdida de bisagra.\n",
    "\n",
    "    Parámetros:\n",
    "    - n_layers (int): Número de capas en el modelo cuántico.\n",
    "    - steps (int): Número de pasos de entrenamiento (épocas).\n",
    "    - batch_size (int): Tamaño del lote para el entrenamiento.\n",
    "\n",
    "    Devuelve:\n",
    "    - params_torch (Tensor): Parámetros entrenados del modelo cuántico.\n",
    "    - bias_torch (Tensor): Sesgo entrenado del modelo cuántico.\n",
    "    - loss_history (list): Historial de pérdidas durante el entrenamiento.\n",
    "    \"\"\"\n",
    "\n",
    "    # Inicialización de los parámetros del modelo cuántico\n",
    "    params = np.random.random((n_layers, n_qubits, 3))\n",
    "    params_torch = torch.tensor(params, requires_grad=True)\n",
    "    bias_torch = torch.tensor(0.0)\n",
    "\n",
    "    # Definir el optimizador Adam con una tasa de aprendizaje de 0.1\n",
    "    opt = torch.optim.Adam([params_torch, bias_torch], lr=0.1)\n",
    "\n",
    "    # Lista para almacenar el historial de pérdidas\n",
    "    loss_history = []\n",
    "\n",
    "    # Bucle de entrenamiento\n",
    "    for i in range(steps):\n",
    "\n",
    "        # Seleccionar un lote aleatorio de datos\n",
    "        batch_ids = np.random.choice(len(X_train), batch_size)\n",
    "        X_batch = X_train[batch_ids]\n",
    "        y_batch = y_train[batch_ids]\n",
    "\n",
    "        # Convertir los datos a tensores de PyTorch\n",
    "        X_batch_torch = torch.tensor(X_batch, requires_grad=False)\n",
    "        y_batch_torch = torch.tensor(y_batch, requires_grad=False)\n",
    "\n",
    "        # Definir la función de cierre para el paso de optimización\n",
    "        def closure():\n",
    "            opt.zero_grad()  # Reiniciar los gradientes\n",
    "\n",
    "            # Calcular las predicciones del modelo para el lote\n",
    "            preds = torch.stack(\n",
    "                [quantum_model_plus_bias(x, params_torch, bias_torch) for x in X_batch_torch]\n",
    "            )\n",
    "\n",
    "            # Calcular la pérdida de bisagra\n",
    "            loss = torch.mean(hinge_loss(preds, y_batch_torch))\n",
    "\n",
    "            # Guardar el valor de la pérdida en el historial\n",
    "            current_loss = loss.detach().numpy().item()\n",
    "            loss_history.append(current_loss)\n",
    "\n",
    "            # Imprimir la pérdida cada 10 pasos\n",
    "            if i % 10 == 0 and verbose:\n",
    "                print(\"Step\", i, \", loss:\", current_loss)\n",
    "\n",
    "            # Propagar hacia atrás los gradientes\n",
    "            loss.backward()\n",
    "            return loss\n",
    "\n",
    "        # Realizar un paso de optimización\n",
    "        opt.step(closure)\n",
    "\n",
    "    return params_torch, bias_torch, loss_history\n",
    "\n",
    "\n",
    "def quantum_model_predict(X_pred, trained_params, trained_bias):\n",
    "    \"\"\"\n",
    "    Realiza predicciones utilizando un modelo cuántico entrenado.\n",
    "\n",
    "    Parámetros:\n",
    "    - X_pred (array-like): Conjunto de datos de entrada para realizar las predicciones.\n",
    "    - trained_params (Tensor): Parámetros entrenados del modelo cuántico.\n",
    "    - trained_bias (Tensor): Sesgo entrenado del modelo cuántico.\n",
    "\n",
    "    Devuelve:\n",
    "    - p (list): Lista de predicciones para cada entrada de X_pred. Las predicciones son 1 o -1.\n",
    "    \"\"\"\n",
    "\n",
    "    # Lista para almacenar las predicciones\n",
    "    p = []\n",
    "\n",
    "    # Calcular las predicciones para cada muestra de entrada\n",
    "    for x in X_pred:\n",
    "\n",
    "        # Convertir la entrada a un tensor\n",
    "        x_torch = torch.tensor(x)\n",
    "\n",
    "        # Obtener la predicción del modelo cuántico\n",
    "        pred_torch = quantum_model_plus_bias(x_torch, trained_params, trained_bias)\n",
    "\n",
    "        # Convertir la predicción a un valor escalar\n",
    "        pred = pred_torch.detach().numpy().item()\n",
    "\n",
    "        # Asignar la predicción a 1 o -1 según el valor\n",
    "        if pred > 0:\n",
    "            pred = 1\n",
    "        else:\n",
    "            pred = -1\n",
    "\n",
    "        # Agregar la predicción a la lista\n",
    "        p.append(pred)\n",
    "    return p"
   ]
  },
  {
   "cell_type": "code",
   "execution_count": 24,
   "metadata": {
    "colab": {
     "base_uri": "https://localhost:8080/",
     "height": 559
    },
    "executionInfo": {
     "elapsed": 1675707,
     "status": "ok",
     "timestamp": 1734785180706,
     "user": {
      "displayName": "Adrián Estoquera Núñez",
      "userId": "08098194799277024573"
     },
     "user_tz": -60
    },
    "id": "I_tzD7fHTH_Y",
    "outputId": "473e2b70-d473-4017-d791-226cc974164e"
   },
   "outputs": [
    {
     "name": "stdout",
     "output_type": "stream",
     "text": [
      "Step 0 , loss: 0.9985119700431824\n",
      "Step 10 , loss: 0.7061806917190552\n",
      "Step 20 , loss: 0.579293966293335\n",
      "Step 30 , loss: 0.3524186909198761\n",
      "Step 40 , loss: 0.35717910528182983\n",
      "accuracy on test set: 0.6140350877192983\n"
     ]
    },
    {
     "data": {
      "image/png": "[encoded data removed]",
      "text/plain": [
       "<Figure size 640x480 with 1 Axes>"
      ]
     },
     "metadata": {},
     "output_type": "display_data"
    }
   ],
   "source": [
    "\"\"\"\n",
    "El uso de un entrenamiento variacional y un dispositivo cuántico simulado permite\n",
    "realizar el ajuste de parámetros en un modelo cuántico sin la necesidad de\n",
    "calcular explícitamente una matriz de kernel completa (como se haría en métodos clásicos).\n",
    "Esto optimiza el uso de recursos y hace que el proceso de entrenamiento sea\n",
    "mucho más manejable, especialmente para problemas de alta dimensión.\n",
    "\n",
    "Además, al simular el modelo cuántico en un ordenador clásico mediante un\n",
    "dispositivo como lightning.qubit, se aprovecha la eficiencia del optimizador\n",
    "Adam y el hecho de que el entrenamiento variacional solo requiere evaluar el\n",
    "rendimiento del modelo para diferentes configuraciones de parámetros, sin tener\n",
    "que realizar cálculos exhaustivos sobre todas las interacciones de los datos.\n",
    "Esto reduce significativamente la carga computacional en comparación con\n",
    "enfoques clásicos directos.\n",
    "\"\"\"\n",
    "n_layers = 5\n",
    "batch_size = 35\n",
    "steps = 50\n",
    "\n",
    "with dev_var.tracker:\n",
    "    trained_params, trained_bias, loss_history = quantum_model_train(n_layers, steps, batch_size)\n",
    "    pred_test = quantum_model_predict(X_test, trained_params, trained_bias)\n",
    "\n",
    "print(\"accuracy on test set:\", accuracy_score(pred_test, y_test))\n",
    "\n",
    "plt.plot(loss_history)\n",
    "plt.ylim((0, 1))\n",
    "plt.xlabel(\"steps\")\n",
    "plt.ylabel(\"cost\")\n",
    "plt.show()\n",
    "\n",
    "\n"
   ]
  },
  {
   "cell_type": "code",
   "execution_count": 25,
   "metadata": {
    "colab": {
     "base_uri": "https://localhost:8080/"
    },
    "executionInfo": {
     "elapsed": 7,
     "status": "ok",
     "timestamp": 1734785180706,
     "user": {
      "displayName": "Adrián Estoquera Núñez",
      "userId": "08098194799277024573"
     },
     "user_tz": -60
    },
    "id": "ubsq2qN8GAzU",
    "outputId": "3fd01d25-c6bd-4e13-81d8-9351d47334c1"
   },
   "outputs": [
    {
     "data": {
      "text/plain": [
       "179473"
      ]
     },
     "execution_count": 25,
     "metadata": {},
     "output_type": "execute_result"
    }
   ],
   "source": [
    "dev_var.tracker.totals['executions']"
   ]
  },
  {
   "cell_type": "markdown",
   "metadata": {
    "id": "WWHNioIokfgN"
   },
   "source": [
    "## Comparación del número de comparaciones de circuitos necesarios"
   ]
  },
  {
   "cell_type": "markdown",
   "metadata": {
    "id": "p27KV-A-lAkp"
   },
   "source": [
    "### Entrenamiento basado en kernel cuantico entrenable"
   ]
  },
  {
   "cell_type": "code",
   "execution_count": 26,
   "metadata": {
    "executionInfo": {
     "elapsed": 6,
     "status": "ok",
     "timestamp": 1734785180707,
     "user": {
      "displayName": "Adrián Estoquera Núñez",
      "userId": "08098194799277024573"
     },
     "user_tz": -60
    },
    "id": "cBt1U9HHkfLy"
   },
   "outputs": [],
   "source": [
    "# El número de comprobaciones que tiene que hacer está descrito por la siguiente formula\n",
    "# M: Ejemplos de entrenamiento -> SVM tiene que crear la gram matrix de tamaño M x M\n",
    "# Para predecir la calse de Mpred ejemplos de test, SVM tiene que evaluar el kernel como máximo\n",
    "# Mpred * M veces para obtener la distancia por pares entre los vectores de entrenamiento y\n",
    "# los vectores de test\n",
    "\n",
    "# La siguiente funcion expresa lo que acabamos de explicar:\n",
    "def circuit_evals_kernel(n_data, split):\n",
    "    \"\"\"\n",
    "    Simula el numero de evaluaciones que se le debe hacer al circuito para\n",
    "    un entrenamiento basado en kernel y su prediccion\n",
    "    \"\"\"\n",
    "\n",
    "    M = int(np.ceil(split * n_data))\n",
    "    Mpred = n_data - M\n",
    "\n",
    "    n_training = M * M\n",
    "    n_prediction = M * Mpred\n",
    "\n",
    "    return n_training + n_prediction"
   ]
  },
  {
   "cell_type": "code",
   "execution_count": 27,
   "metadata": {
    "colab": {
     "base_uri": "https://localhost:8080/"
    },
    "executionInfo": {
     "elapsed": 6,
     "status": "ok",
     "timestamp": 1734785180707,
     "user": {
      "displayName": "Adrián Estoquera Núñez",
      "userId": "08098194799277024573"
     },
     "user_tz": -60
    },
    "id": "HYtJsop4l_am",
    "outputId": "d40b2e15-16c8-42a6-c09f-4fb1c23a02fe"
   },
   "outputs": [
    {
     "data": {
      "text/plain": [
       "226462"
      ]
     },
     "execution_count": 27,
     "metadata": {},
     "output_type": "execute_result"
    }
   ],
   "source": [
    "# Sanity check:\n",
    "circuit_evals_kernel(n_data=len(X), split=len(X_train) / (len(X_train) + len(X_test)))"
   ]
  },
  {
   "cell_type": "markdown",
   "metadata": {
    "id": "oSSmD35fmhMh"
   },
   "source": [
    "###  Entrenamiento variacional"
   ]
  },
  {
   "cell_type": "code",
   "execution_count": 28,
   "metadata": {
    "executionInfo": {
     "elapsed": 5,
     "status": "ok",
     "timestamp": 1734785180707,
     "user": {
      "displayName": "Adrián Estoquera Núñez",
      "userId": "08098194799277024573"
     },
     "user_tz": -60
    },
    "id": "DVqenkWymI1D"
   },
   "outputs": [],
   "source": [
    "\"\"\"\n",
    "El entrenamiento variacional tiene que calcular la derivada parcial de todos los\n",
    "parametros entrenables para cada ejemplo de cada batch. Usando parameter-shift rules\n",
    "(método utilizado para calcular derivadas de circuitos cuánticos con respecto a sus parámetros.\n",
    "En lugar de calcular directamente los gradientes, se obtiene una aproximación al\n",
    "cambiar los parámetros y observar el cambio en el resultado), se necesitan aproximadamente\n",
    "dos evaluaciones de circuito por cada derivada parcial. La prediccion usa tan solo una evaluacion de circuito por ejemplo\n",
    "\"\"\"\n",
    "def circuit_evals_variational(n_data, n_params, n_steps, shift_terms, split, batch_size):\n",
    "    \"\"\"Simula el numero de evaluaciones que se le debe hacer al circuito para\n",
    "    un entrenamiento variacional y su prediccion.\"\"\"\n",
    "\n",
    "    M = int(np.ceil(split * n_data))\n",
    "    Mpred = n_data - M\n",
    "\n",
    "    n_training = n_params * n_steps * batch_size * shift_terms\n",
    "    n_prediction = Mpred\n",
    "\n",
    "    return n_training + n_prediction"
   ]
  },
  {
   "cell_type": "code",
   "execution_count": 29,
   "metadata": {
    "colab": {
     "base_uri": "https://localhost:8080/"
    },
    "executionInfo": {
     "elapsed": 5,
     "status": "ok",
     "timestamp": 1734785180707,
     "user": {
      "displayName": "Adrián Estoquera Núñez",
      "userId": "08098194799277024573"
     },
     "user_tz": -60
    },
    "id": "XRWtLv6vn5fz",
    "outputId": "464fd490-26e9-4572-fbb5-3981dde63d5c"
   },
   "outputs": [
    {
     "data": {
      "text/plain": [
       "787671"
      ]
     },
     "execution_count": 29,
     "metadata": {},
     "output_type": "execute_result"
    }
   ],
   "source": [
    "# Sanity check:\n",
    "circuit_evals_variational(\n",
    "    n_data=len(X),\n",
    "    n_params=len(trained_params.flatten()),\n",
    "    n_steps=steps,\n",
    "    shift_terms=n_layers,\n",
    "    split=len(X_train) / (len(X_train) + len(X_test)),\n",
    "    batch_size=batch_size,\n",
    ")\n",
    "# La estimacion es ligeramente superior porque pennylane hace ciertas optimizaciones"
   ]
  },
  {
   "cell_type": "code",
   "execution_count": 30,
   "metadata": {
    "colab": {
     "base_uri": "https://localhost:8080/",
     "height": 487
    },
    "executionInfo": {
     "elapsed": 507,
     "status": "ok",
     "timestamp": 1734785181210,
     "user": {
      "displayName": "Adrián Estoquera Núñez",
      "userId": "08098194799277024573"
     },
     "user_tz": -60
    },
    "id": "oYPt-aV6pgLy",
    "outputId": "1a43f3ad-884c-4441-86ee-b9f9f98a171d"
   },
   "outputs": [
    {
     "data": {
      "image/png": "[encoded data removed]",
      "text/plain": [
       "<Figure size 640x480 with 1 Axes>"
      ]
     },
     "metadata": {},
     "output_type": "display_data"
    }
   ],
   "source": [
    "variational_training = []\n",
    "kernelbased_training = []\n",
    "x_axis = range(0, 20_000, 100)\n",
    "\n",
    "for M in x_axis:\n",
    "    var1 = circuit_evals_variational(\n",
    "        n_data=M, n_params=len(trained_params.flatten()), n_steps=100, shift_terms=2, split=0.75, batch_size=1\n",
    "    )\n",
    "    variational_training.append(var1)\n",
    "\n",
    "    kernel_eval = circuit_evals_kernel(n_data=M, split=0.75)\n",
    "    kernelbased_training.append(kernel_eval)\n",
    "\n",
    "plt.plot(x_axis, variational_training, label=\"var. circuit\")\n",
    "plt.plot(x_axis, kernelbased_training, label=\"(quantum) kernel\")\n",
    "plt.xlabel(\"size of data set\")\n",
    "plt.ylabel(\"number of evaluations\")\n",
    "plt.legend()\n",
    "plt.tight_layout()\n",
    "plt.show()\n"
   ]
  },
  {
   "cell_type": "code",
   "execution_count": 31,
   "metadata": {
    "executionInfo": {
     "elapsed": 3,
     "status": "ok",
     "timestamp": 1734785181210,
     "user": {
      "displayName": "Adrián Estoquera Núñez",
      "userId": "08098194799277024573"
     },
     "user_tz": -60
    },
    "id": "j4dNX_zVKlO2"
   },
   "outputs": [],
   "source": [
    "import numpy as np\n",
    "from sklearn.svm import SVC\n",
    "from sklearn.metrics import accuracy_score\n",
    "import pennylane as qml\n",
    "from pennylane.optimize import AdamOptimizer\n",
    "import time\n",
    "\n",
    "# Generate synthetic data\n",
    "def generate_data(n_samples, X_train, y_train):\n",
    "    np.random.seed(42)\n",
    "    X_train_df = pd.DataFrame(X_train)\n",
    "    y_train_df = pd.DataFrame(y_train)\n",
    "    X_small, y_small = create_small_subset(pd.DataFrame(X_train), pd.DataFrame(y_train), n_samples)\n",
    "    y_small[0] = y_small[0].apply(lambda label: -1 if label == 0 else 1)\n",
    "    X_small = X_small.to_numpy()\n",
    "    y_small = y_small.to_numpy().flatten()\n",
    "    return X_small, y_small\n",
    "\n",
    "\n",
    "def kernel_matrix(A, B, kernel_fn):\n",
    "    \"\"\"Compute the matrix whose entries are the kernel\n",
    "       evaluated on pairwise data from sets A and B.\"\"\"\n",
    "    return np.array([[kernel_fn(a, b) for b in B] for a in A])\n",
    "# Quantum SVM with kernel matrix (QSVC)\n",
    "def quantum_kernel_svc(X_train, y_train, X_test, y_test, kernel_fn):\n",
    "    # Calcular las matrices del kernel\n",
    "    start = time.time()\n",
    "    K_train = kernel_matrix(X_train, X_train, kernel_fn)\n",
    "    K_test = kernel_matrix(X_test, X_train, kernel_fn)\n",
    "\n",
    "    # Ajustar el modelo con matriz precomputada\n",
    "\n",
    "    svc = SVC(kernel=\"precomputed\").fit(K_train, y_train)\n",
    "\n",
    "    # Evaluar con matriz precomputada\n",
    "    y_pred = svc.predict(K_test)\n",
    "    end = time.time()\n",
    "\n",
    "    return accuracy_score(y_test, y_pred), end - start\n",
    "\n",
    "# Variational SVM\n",
    "def variational_svm(X_train, y_train, X_test, y_test, n_layers=5, batch_size=35, steps=2, verbose = False):\n",
    "    # Entrenamiento con el modelo cuántico usando quantum_model_train\n",
    "    start = time.time()\n",
    "    trained_params, trained_bias, loss_history = quantum_model_train(n_layers, steps, batch_size, verbose)\n",
    "\n",
    "\n",
    "    # Realizar predicciones en el conjunto de prueba usando quantum_model_predict\n",
    "    pred_test = quantum_model_predict(X_test, trained_params, trained_bias)\n",
    "    end = time.time()\n",
    "    # Calcular la precisión\n",
    "    accuracy = accuracy_score(pred_test, y_test)\n",
    "\n",
    "    # Retornar la precisión y el tiempo de entrenamiento como en el caso original de variational_svm\n",
    "    return accuracy, end - start\n",
    "\n",
    "import numpy as np\n",
    "import time\n",
    "\n",
    "class SimpleSVM:\n",
    "    def __init__(self, C=0.1, degree=5, max_iter=10000):\n",
    "        self.C = C\n",
    "        self.degree = degree\n",
    "        self.max_iter = max_iter\n",
    "        self.alpha = None\n",
    "        self.w = None\n",
    "        self.b = None\n",
    "        self.kernel = self.polynomial_kernel\n",
    "\n",
    "    def polynomial_kernel(self, X1, X2):\n",
    "        \"\"\"Calcula el kernel polinómico de grado 5.\"\"\"\n",
    "        return (np.dot(X1, X2.T) + 1) ** self.degree\n",
    "\n",
    "    def fit(self, X, y):\n",
    "        # Número de ejemplos y características\n",
    "        n_samples, n_features = X.shape\n",
    "        # Matriz de gram\n",
    "        K = self.kernel(X, X)\n",
    "\n",
    "        # Inicializar alfas\n",
    "        self.alpha = np.zeros(n_samples)\n",
    "        self.b = 0\n",
    "\n",
    "        # Maximizar la función de Lagrange (simplificada para fines demostrativos)\n",
    "        for _ in range(self.max_iter):\n",
    "            for i in range(n_samples):\n",
    "                condition = y[i] * (np.dot(self.alpha * y, K[:, i]) + self.b) < 1\n",
    "                if condition:\n",
    "                    # Actualización de los multiplicadores de Lagrange\n",
    "                    self.alpha[i] += self.C * (1 - y[i] * (np.dot(self.alpha * y, K[:, i]) + self.b))\n",
    "\n",
    "        # Calculamos w a partir de alpha y el kernel\n",
    "        self.w = np.dot(self.alpha * y, X)\n",
    "\n",
    "    def predict(self, X):\n",
    "        # Predicción para un conjunto de test\n",
    "        return np.sign(np.dot(X, self.w.T) + self.b)\n",
    "\n",
    "def classical_svm(X_train, y_train, X_test, y_test):\n",
    "    start = time.time()\n",
    "\n",
    "    # Crear el modelo SVM simple\n",
    "    svm = SimpleSVM(C=3, degree=10, max_iter=100_000)\n",
    "\n",
    "    # Entrenar el modelo\n",
    "    svm.fit(X_train, y_train)\n",
    "\n",
    "    # Realizar predicciones\n",
    "    y_pred = svm.predict(X_test)\n",
    "\n",
    "    end = time.time()\n",
    "\n",
    "    # Devolver la precisión y el tiempo total de ejecución\n",
    "    accuracy = np.mean(y_pred == y_test)\n",
    "    return accuracy, end - start"
   ]
  },
  {
   "cell_type": "code",
   "execution_count": 32,
   "metadata": {
    "colab": {
     "base_uri": "https://localhost:8080/"
    },
    "executionInfo": {
     "elapsed": 2519804,
     "status": "ok",
     "timestamp": 1734787701011,
     "user": {
      "displayName": "Adrián Estoquera Núñez",
      "userId": "08098194799277024573"
     },
     "user_tz": -60
    },
    "id": "d3bALDNmH-Oc",
    "outputId": "ef3b5959-12cb-434c-e9a7-63100a2060aa"
   },
   "outputs": [
    {
     "name": "stdout",
     "output_type": "stream",
     "text": [
      "\n",
      "Number of samples: 100 (25%)\n",
      "QSVC: Accuracy = 0.45, Time = 63.35s\n",
      "Variational SVM: Accuracy = 0.58, Time = 30.73s\n",
      "Classical SVM: Accuracy = 0.49, Time = 316.71s\n",
      "\n",
      "Number of samples: 199 (50%)\n",
      "QSVC: Accuracy = 0.63, Time = 170.81s\n",
      "Variational SVM: Accuracy = 0.58, Time = 32.13s\n",
      "Classical SVM: Accuracy = 0.49, Time = 329.34s\n",
      "\n",
      "Number of samples: 298 (75%)\n",
      "QSVC: Accuracy = 0.63, Time = 326.07s\n",
      "Variational SVM: Accuracy = 0.58, Time = 32.26s\n",
      "Classical SVM: Accuracy = 0.49, Time = 325.61s\n",
      "\n",
      "Number of samples: 398 (100%)\n",
      "QSVC: Accuracy = 0.63, Time = 528.32s\n",
      "Variational SVM: Accuracy = 0.58, Time = 31.60s\n",
      "Classical SVM: Accuracy = 0.49, Time = 332.71s\n"
     ]
    }
   ],
   "source": [
    "\n",
    "# Benchmarking\n",
    "n_samples_list = list(range(25,101, 25))\n",
    "n_samples_list = [s/100 for s in n_samples_list]\n",
    "accuracies = {\"Quantum SVM\": [], \"Variational SVM\": [], \"Classical SVM\": []}\n",
    "times = {\"Quantum SVM\": [], \"Variational SVM\": [], \"Classical SVM\": []}\n",
    "for n_samples in n_samples_list:\n",
    "    X_train_compare, y_train_compare = generate_data(n_samples, X_train, y_train)\n",
    "    print(f\"\\nNumber of samples: {len(X_train_compare)} ({int(n_samples * 100)}%)\")\n",
    "\n",
    "    acc, time_taken = quantum_kernel_svc(X_train_compare, y_train_compare,X_test, y_test, kernel_fn=kernel)\n",
    "    accuracies[\"Quantum SVM\"].append(acc)\n",
    "    times[\"Quantum SVM\"].append(time_taken)\n",
    "    print(f\"QSVC: Accuracy = {acc:.2f}, Time = {time_taken:.2f}s\")\n",
    "\n",
    "    acc, time_taken = variational_svm(X_train, y_train, X_test, y_test)\n",
    "    accuracies[\"Variational SVM\"].append(acc)\n",
    "    times[\"Variational SVM\"].append(time_taken)\n",
    "    print(f\"Variational SVM: Accuracy = {acc:.2f}, Time = {time_taken:.2f}s\")\n",
    "\n",
    "    acc, time_taken = classical_svm(X_train, y_train, X_test, y_test)\n",
    "    accuracies[\"Classical SVM\"].append(acc)\n",
    "    times[\"Classical SVM\"].append(time_taken)\n",
    "    print(f\"Classical SVM: Accuracy = {acc:.2f}, Time = {time_taken:.2f}s\")\n"
   ]
  },
  {
   "cell_type": "code",
   "execution_count": 33,
   "metadata": {
    "colab": {
     "base_uri": "https://localhost:8080/",
     "height": 1000
    },
    "executionInfo": {
     "elapsed": 1024,
     "status": "ok",
     "timestamp": 1734787702028,
     "user": {
      "displayName": "Adrián Estoquera Núñez",
      "userId": "08098194799277024573"
     },
     "user_tz": -60
    },
    "id": "GzvWRmaRQM29",
    "outputId": "d13df68e-7b7b-4f25-ea87-24c59e835b0f"
   },
   "outputs": [
    {
     "data": {
      "image/png": "[encoded data removed]",
      "text/plain": [
       "<Figure size 1000x1000 with 2 Axes>"
      ]
     },
     "metadata": {},
     "output_type": "display_data"
    }
   ],
   "source": [
    "# Convertir tamaños de muestra a porcentajes para la gráfica\n",
    "n_samples_percent = [s  * 100 for s in n_samples_list]\n",
    "\n",
    "# Crear la figura\n",
    "fig, axes = plt.subplots(2, 1, figsize=(10, 10))\n",
    "\n",
    "# Precisión\n",
    "axes[0].plot(n_samples_percent, accuracies[\"Quantum SVM\"], label=\"Quantum SVM\", marker=\"o\")\n",
    "axes[0].plot(n_samples_percent, accuracies[\"Variational SVM\"], label=\"Variational SVM\", marker=\"o\")\n",
    "axes[0].plot(n_samples_percent, accuracies[\"Classical SVM\"], label=\"Classical SVM\", marker=\"o\")\n",
    "axes[0].set_title(\"Accuracy vs. Dataset Size\")\n",
    "axes[0].set_xlabel(\"Dataset Size (%)\")\n",
    "axes[0].set_ylabel(\"Accuracy\")\n",
    "axes[0].legend()\n",
    "axes[0].grid(True)\n",
    "\n",
    "# Tiempo\n",
    "axes[1].plot(n_samples_percent, times[\"Quantum SVM\"], label=\"Quantum SVM\", marker=\"o\")\n",
    "axes[1].plot(n_samples_percent, times[\"Variational SVM\"], label=\"Variational SVM\", marker=\"o\")\n",
    "axes[1].plot(n_samples_percent, times[\"Classical SVM\"], label=\"Classical SVM\", marker=\"o\")\n",
    "axes[1].set_title(\"Time Taken vs. Dataset Size\")\n",
    "axes[1].set_xlabel(\"Dataset Size (%)\")\n",
    "axes[1].set_ylabel(\"Time (s)\")\n",
    "axes[1].legend()\n",
    "axes[1].grid(True)\n",
    "\n",
    "# Cambiar la escala del eje Y a logarítmica\n",
    "axes[1].set_yscale('log')\n",
    "\n",
    "# Mostrar la figura\n",
    "plt.tight_layout()\n",
    "plt.show()"
   ]
  },
  {
   "cell_type": "code",
   "execution_count": 34,
   "metadata": {
    "colab": {
     "base_uri": "https://localhost:8080/"
    },
    "executionInfo": {
     "elapsed": 3519,
     "status": "ok",
     "timestamp": 1734787705545,
     "user": {
      "displayName": "Adrián Estoquera Núñez",
      "userId": "08098194799277024573"
     },
     "user_tz": -60
    },
    "id": "U-wpxDqJ616N",
    "outputId": "20417368-2f75-4702-9fba-d453fe1772b8"
   },
   "outputs": [
    {
     "name": "stdout",
     "output_type": "stream",
     "text": [
      "Requirement already satisfied: imbalanced-learn in /usr/local/lib/python3.10/dist-packages (0.12.4)\n",
      "Requirement already satisfied: numpy>=1.17.3 in /usr/local/lib/python3.10/dist-packages (from imbalanced-learn) (1.26.4)\n",
      "Requirement already satisfied: scipy>=1.5.0 in /usr/local/lib/python3.10/dist-packages (from imbalanced-learn) (1.13.1)\n",
      "Requirement already satisfied: scikit-learn>=1.0.2 in /usr/local/lib/python3.10/dist-packages (from imbalanced-learn) (1.6.0)\n",
      "Requirement already satisfied: joblib>=1.1.1 in /usr/local/lib/python3.10/dist-packages (from imbalanced-learn) (1.4.2)\n",
      "Requirement already satisfied: threadpoolctl>=2.0.0 in /usr/local/lib/python3.10/dist-packages (from imbalanced-learn) (3.5.0)\n"
     ]
    }
   ],
   "source": [
    "# Como el volumen de los datos no es suficientemente grande vamos a generar datos sitenticos y comprobar como\n",
    "# lo gestiona cada modelo\n",
    "!pip install imbalanced-learn\n",
    "from imblearn.over_sampling import SMOTE\n",
    "\n"
   ]
  },
  {
   "cell_type": "code",
   "execution_count": 35,
   "metadata": {
    "executionInfo": {
     "elapsed": 1005,
     "status": "ok",
     "timestamp": 1734787706549,
     "user": {
      "displayName": "Adrián Estoquera Núñez",
      "userId": "08098194799277024573"
     },
     "user_tz": -60
    },
    "id": "P_IYvjwd7zFI"
   },
   "outputs": [],
   "source": [
    "import numpy as np\n",
    "from sklearn.utils import resample\n",
    "\n",
    "def generar_datos_extra(X, y, n_total_ejemplos=2000):\n",
    "    \"\"\"\n",
    "    Genera nuevos ejemplos sintéticos hasta alcanzar el número total de ejemplos deseado.\n",
    "\n",
    "    :param X: DataFrame o numpy array con las características (features)\n",
    "    :param y: Array o Serie con las etiquetas (target)\n",
    "    :param n_total_ejemplos: Número total de ejemplos deseados para el conjunto de datos (X_extra, y_extra)\n",
    "\n",
    "    :return: Nuevas muestras (X_extra) y sus etiquetas correspondientes (y_extra)\n",
    "    \"\"\"\n",
    "    # Calcula el número de ejemplos actuales\n",
    "    n_ejemplos_originales = X.shape[0]\n",
    "\n",
    "    # Si el número total de ejemplos deseados es menor que los actuales, lanza un error\n",
    "    if n_total_ejemplos <= n_ejemplos_originales:\n",
    "        raise ValueError(\"El número total de ejemplos debe ser mayor que el número de ejemplos originales.\")\n",
    "\n",
    "    # Número de nuevos ejemplos que necesitamos generar\n",
    "    n_nuevos_ejemplos = n_total_ejemplos - n_ejemplos_originales\n",
    "\n",
    "    # Generamos nuevos ejemplos de características aleatoriamente (puedes usar muestreo con reemplazo)\n",
    "    X_extra = resample(X, n_samples=n_nuevos_ejemplos, replace=True, random_state=42)\n",
    "\n",
    "    # Generamos nuevas etiquetas aleatorias para los ejemplos generados\n",
    "    y_extra = np.random.choice(np.unique(y), size=n_nuevos_ejemplos, replace=True)\n",
    "\n",
    "    # Concatenamos los datos originales con los nuevos ejemplos generados\n",
    "    X_final = np.vstack([X, X_extra])\n",
    "    y_final = np.concatenate([y, y_extra])\n",
    "\n",
    "    return X_final, y_final\n",
    "\n",
    "# Llamada a la función con el número total de ejemplos deseado\n",
    "X_train_extra, y_train_extra = generar_datos_extra(X_train, y_train, n_total_ejemplos=5_000_000)\n"
   ]
  },
  {
   "cell_type": "code",
   "execution_count": 36,
   "metadata": {
    "colab": {
     "base_uri": "https://localhost:8080/",
     "height": 1000
    },
    "executionInfo": {
     "elapsed": 1461215,
     "status": "ok",
     "timestamp": 1734789167763,
     "user": {
      "displayName": "Adrián Estoquera Núñez",
      "userId": "08098194799277024573"
     },
     "user_tz": -60
    },
    "id": "AHo59ACI7E0f",
    "outputId": "dc170e63-f991-47f9-f99b-b70fe50bbf5e"
   },
   "outputs": [
    {
     "name": "stdout",
     "output_type": "stream",
     "text": [
      "\n",
      "Number of samples: 1250000 (25%)\n",
      "QSVC: Accuracy = 0.00, Time = 0.00s\n",
      "Variational SVM: Accuracy = 0.63, Time = 58.21s\n",
      "Classical SVM: Accuracy = 0.49, Time = 320.40s\n",
      "\n",
      "Number of samples: 2500000 (50%)\n",
      "QSVC: Accuracy = 0.00, Time = 0.00s\n",
      "Variational SVM: Accuracy = 0.63, Time = 35.62s\n",
      "Classical SVM: Accuracy = 0.49, Time = 312.42s\n",
      "\n",
      "Number of samples: 3750000 (75%)\n",
      "QSVC: Accuracy = 0.00, Time = 0.00s\n",
      "Variational SVM: Accuracy = 0.63, Time = 35.02s\n",
      "Classical SVM: Accuracy = 0.49, Time = 323.12s\n",
      "\n",
      "Number of samples: 5000000 (100%)\n",
      "QSVC: Accuracy = 0.00, Time = 0.00s\n",
      "Variational SVM: Accuracy = 0.63, Time = 34.95s\n",
      "Classical SVM: Accuracy = 0.49, Time = 329.10s\n"
     ]
    },
    {
     "data": {
      "image/png": "[encoded data removed]",
      "text/plain": [
       "<Figure size 1000x1000 with 2 Axes>"
      ]
     },
     "metadata": {},
     "output_type": "display_data"
    }
   ],
   "source": [
    "# Benchmarking\n",
    "n_samples_list = list(range(25,101, 25))\n",
    "n_samples_list = [s/100 for s in n_samples_list]\n",
    "accuracies = {\"Quantum SVM\": [], \"Variational SVM\": [], \"Classical SVM\": []}\n",
    "times = {\"Quantum SVM\": [], \"Variational SVM\": [], \"Classical SVM\": []}\n",
    "for n_samples in n_samples_list:\n",
    "    X_train_compare, y_train_compare = generate_data(n_samples, X_train_extra, y_train_extra)\n",
    "    print(f\"\\nNumber of samples: {len(X_train_compare)} ({int(n_samples * 100)}%)\")\n",
    "\n",
    "    # acc, time_taken = quantum_kernel_svc(X_train_compare, y_train_compare,X_test, y_test, kernel_fn=kernel)\n",
    "    acc, time_taken = 0,0\n",
    "    accuracies[\"Quantum SVM\"].append(acc)\n",
    "    times[\"Quantum SVM\"].append(time_taken)\n",
    "    print(f\"QSVC: Accuracy = {acc:.2f}, Time = {time_taken:.2f}s\")\n",
    "\n",
    "    acc, time_taken = variational_svm(X_train, y_train, X_test, y_test)\n",
    "    accuracies[\"Variational SVM\"].append(acc)\n",
    "    times[\"Variational SVM\"].append(time_taken)\n",
    "    print(f\"Variational SVM: Accuracy = {acc:.2f}, Time = {time_taken:.2f}s\")\n",
    "\n",
    "    acc, time_taken = classical_svm(X_train, y_train, X_test, y_test)\n",
    "    accuracies[\"Classical SVM\"].append(acc)\n",
    "    times[\"Classical SVM\"].append(time_taken)\n",
    "    print(f\"Classical SVM: Accuracy = {acc:.2f}, Time = {time_taken:.2f}s\")\n",
    "\n",
    "\n",
    "# Convertir tamaños de muestra a porcentajes para la gráfica\n",
    "n_samples_percent = [s  * 100 for s in n_samples_list]\n",
    "\n",
    "# Crear la figura\n",
    "fig, axes = plt.subplots(2, 1, figsize=(10, 10))\n",
    "\n",
    "# Precisión\n",
    "axes[0].plot(n_samples_percent, accuracies[\"Quantum SVM\"], label=\"Quantum SVM\", marker=\"o\")\n",
    "axes[0].plot(n_samples_percent, accuracies[\"Variational SVM\"], label=\"Variational SVM\", marker=\"o\")\n",
    "axes[0].plot(n_samples_percent, accuracies[\"Classical SVM\"], label=\"Classical SVM\", marker=\"o\")\n",
    "axes[0].set_title(\"Accuracy vs. Dataset Size\")\n",
    "axes[0].set_xlabel(\"Dataset Size (%)\")\n",
    "axes[0].set_ylabel(\"Accuracy\")\n",
    "axes[0].legend()\n",
    "axes[0].grid(True)\n",
    "\n",
    "# Tiempo\n",
    "axes[1].plot(n_samples_percent, times[\"Quantum SVM\"], label=\"Quantum SVM\", marker=\"o\")\n",
    "axes[1].plot(n_samples_percent, times[\"Variational SVM\"], label=\"Variational SVM\", marker=\"o\")\n",
    "axes[1].plot(n_samples_percent, times[\"Classical SVM\"], label=\"Classical SVM\", marker=\"o\")\n",
    "axes[1].set_title(\"Time Taken vs. Dataset Size\")\n",
    "axes[1].set_xlabel(\"Dataset Size (%)\")\n",
    "axes[1].set_ylabel(\"Time (s)\")\n",
    "axes[1].legend()\n",
    "axes[1].grid(True)\n",
    "\n",
    "# Cambiar la escala del eje Y a logarítmica\n",
    "axes[1].set_yscale('log')\n",
    "\n",
    "# Mostrar la figura\n",
    "plt.tight_layout()\n",
    "plt.show()"
   ]
  },
  {
   "cell_type": "markdown",
   "metadata": {
    "id": "1B8zfaJsGWi2"
   },
   "source": [
    "### SVM cuantico\n",
    "Este acercamiento era la manera recomendada de entrenar un support vector machine cuantico hasta la version 0.8.1 de quiskit. Ahora ha quedado desfasado y además resulta muy ineficiente en terminos de tiempo."
   ]
  },
  {
   "cell_type": "code",
   "execution_count": 17,
   "metadata": {
    "executionInfo": {
     "elapsed": 1,
     "status": "ok",
     "timestamp": 1734882094826,
     "user": {
      "displayName": "Adrián Estoquera Núñez",
      "userId": "08098194799277024573"
     },
     "user_tz": -60
    },
    "id": "4aZ9yUaiGfcP"
   },
   "outputs": [],
   "source": [
    "import numpy as np\n",
    "from qiskit_machine_learning.algorithms import QSVC\n",
    "from sklearn.model_selection import train_test_split\n",
    "from sklearn.metrics import accuracy_score\n",
    "\n",
    "from qiskit.circuit.library import ZZFeatureMap"
   ]
  },
  {
   "cell_type": "code",
   "execution_count": 20,
   "metadata": {
    "colab": {
     "base_uri": "https://localhost:8080/"
    },
    "executionInfo": {
     "elapsed": 1413423,
     "status": "ok",
     "timestamp": 1734885296836,
     "user": {
      "displayName": "Adrián Estoquera Núñez",
      "userId": "08098194799277024573"
     },
     "user_tz": -60
    },
    "id": "9b8Y9m8MGu4R",
    "outputId": "77a8572e-02e1-4500-d00f-ddd0d9aa926b"
   },
   "outputs": [
    {
     "name": "stdout",
     "output_type": "stream",
     "text": [
      "Accuracy del modelo SVM cuántico: 54.39%\n"
     ]
    }
   ],
   "source": [
    "# Definir un Feature Map cuántico (usamos ZZFeatureMap aquí)\n",
    "# Un Feature Map cuántico es necesario para convertir los datos clásicos (X_train) en un formato que pueda ser procesado por una computadora cuántica.\n",
    "# Esta transformación permite que los datos puedan ser procesados y manipulados de acuerdo con las reglas cuánticas\n",
    "feature_map = ZZFeatureMap(feature_dimension=X_train.shape[1], reps=2, entanglement=\"linear\")\n",
    "\n",
    "# Definir un Quantum Kernel usando el Feature Map cuántico\n",
    "# Un Quantum Kernel se utiliza para calcular la similitud entre los puntos de datos en el espacio cuántico.\n",
    "# Esta medida de similitud es esencial en los clasificadores SVM, ya que ayuda a determinar la mejor forma de separar las clases en el modelo.\n",
    "# Usar un kernel cuántico como FidelityQuantumKernel puede proporcionar una mejor capacidad de separación en ciertos problemas,\n",
    "# lo que puede resultar en un modelo más preciso comparado con los kernels clásicos.\n",
    "quantum_kernel = FidelityQuantumKernel(feature_map=feature_map)\n",
    "\n",
    "# Crear un clasificador QSVC (Quantum SVC) con el kernel cuántico\n",
    "# QSVC (Quantum Support Vector Classifier) es una versión cuántica de los clasificadores SVM tradicionales.\n",
    "# Usar un kernel cuántico en lugar de un kernel clásico permite que el clasificador trabaje en un espacio cuántico, lo cual puede ser más efectivo\n",
    "# para ciertos tipos de problemas, aprovechando las propiedades cuánticas como la superposición y el entrelazamiento.\n",
    "# Este paso crea un clasificador que utiliza el kernel cuántico previamente definido.\n",
    "qsvm = QSVC(quantum_kernel=quantum_kernel)\n",
    "\n",
    "# Entrenar el modelo\n",
    "# Al entrenar el modelo, se ajustan los parámetros del clasificador cuántico para que sea capaz de predecir correctamente las etiquetas de los datos de prueba en el futuro.\n",
    "qsvm.fit(X_train, y_train)\n",
    "\n",
    "# Realizar predicciones\n",
    "# Después de entrenar el modelo, se utilizan los datos de prueba (X_test) para hacer predicciones.\n",
    "# Este paso permite que el modelo clasifique nuevos ejemplos que no ha visto antes, basándose en lo que ha aprendido durante el entrenamiento.\n",
    "y_pred = qsvm.predict(X_test)\n",
    "\n",
    "# Evaluar el modelo\n",
    "accuracy = accuracy_score(y_test, y_pred)\n",
    "print(f\"Accuracy del modelo SVM cuántico: {accuracy * 100:.2f}%\")\n"
   ]
  }
 ],
 "metadata": {
  "colab": {
   "provenance": [],
   "toc_visible": true
  },
  "kernelspec": {
   "display_name": "Python 3",
   "name": "python3"
  },
  "language_info": {
   "name": "python"
  }
 },
 "nbformat": 4,
 "nbformat_minor": 0
}
